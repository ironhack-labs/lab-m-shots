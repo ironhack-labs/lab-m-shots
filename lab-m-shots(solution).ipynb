{
 "cells": [
  {
   "cell_type": "markdown",
   "id": "24b19fff-8f42-4e9f-a73e-00cff106805a",
   "metadata": {},
   "source": [
    "# M-Shots Learning"
   ]
  },
  {
   "cell_type": "markdown",
   "id": "34723a72-1601-4685-a0ba-bff544425d48",
   "metadata": {
    "id": "34723a72-1601-4685-a0ba-bff544425d48"
   },
   "source": [
    "In this notebook, we'll explore small prompt engineering techniques and recommendations that will help us elicit responses from the models that are better suited to our needs."
   ]
  },
  {
   "cell_type": "code",
   "execution_count": 16,
   "id": "fba193cc-d8a0-4ad2-8177-380204426859",
   "metadata": {
    "id": "fba193cc-d8a0-4ad2-8177-380204426859"
   },
   "outputs": [],
   "source": [
    "from openai import OpenAI\n",
    "import os\n",
    "\n",
    "from dotenv import load_dotenv, find_dotenv\n",
    "_ = load_dotenv(find_dotenv()) # read local .env file\n",
    "\n",
    "OPENAI_API_KEY  = os.getenv('OPENAI_API_KEY')\n"
   ]
  },
  {
   "cell_type": "markdown",
   "id": "502cfc93-21e0-498f-9650-37bc6ddd514d",
   "metadata": {
    "id": "502cfc93-21e0-498f-9650-37bc6ddd514d"
   },
   "source": [
    "# Formatting the answer with Few Shot Samples.\n",
    "\n",
    "To obtain the model's response in a specific format, we have various options, but one of the most convenient is to use Few-Shot Samples. This involves presenting the model with pairs of user queries and example responses.\n",
    "\n",
    "Large models like GPT-3.5 respond well to the examples provided, adapting their response to the specified format.\n",
    "\n",
    "Depending on the number of examples given, this technique can be referred to as:\n",
    "* Zero-Shot.\n",
    "* One-Shot.\n",
    "* Few-Shots.\n",
    "\n",
    "With One Shot should be enough, and it is recommended to use a maximum of six shots. It's important to remember that this information is passed in each query and occupies space in the input prompt.\n",
    "\n"
   ]
  },
  {
   "cell_type": "code",
   "execution_count": 3,
   "id": "a8344712-06d7-4c24-83d8-f36d62926e5e",
   "metadata": {
    "id": "a8344712-06d7-4c24-83d8-f36d62926e5e"
   },
   "outputs": [],
   "source": [
    "# Function to call the model.\n",
    "def return_OAIResponse(user_message, context):\n",
    "    client = OpenAI(\n",
    "    # This is the default and can be omitted\n",
    "    api_key=OPENAI_API_KEY,\n",
    ")\n",
    "\n",
    "    newcontext = context.copy()\n",
    "    newcontext.append({'role':'user', 'content':\"question: \" + user_message})\n",
    "\n",
    "    response = client.chat.completions.create(\n",
    "            model=\"gpt-3.5-turbo\",\n",
    "            messages=newcontext,\n",
    "            temperature=1,\n",
    "        )\n",
    "\n",
    "    return (response.choices[0].message.content)"
   ]
  },
  {
   "cell_type": "markdown",
   "id": "f611d73d-9330-466d-b705-543667e1b561",
   "metadata": {
    "id": "f611d73d-9330-466d-b705-543667e1b561"
   },
   "source": [
    "In this zero-shots prompt we obtain a correct response, but without formatting, as the model incorporates the information he wants."
   ]
  },
  {
   "cell_type": "code",
   "execution_count": 4,
   "id": "647790be-fdb8-4692-a82e-7e3a0220f72a",
   "metadata": {
    "colab": {
     "base_uri": "https://localhost:8080/"
    },
    "id": "647790be-fdb8-4692-a82e-7e3a0220f72a",
    "outputId": "4c4a9f4f-67c9-4a11-837f-1a1fd6b516ff"
   },
   "outputs": [
    {
     "name": "stdout",
     "output_type": "stream",
     "text": [
      "The Formula 1 World Championship in 2010 was won by Sebastian Vettel driving for Red Bull Racing.\n"
     ]
    }
   ],
   "source": [
    "#zero-shot\n",
    "context_user = [\n",
    "    {'role':'system', 'content':'You are an expert in F1.'}\n",
    "]\n",
    "print(return_OAIResponse(\"Who won the F1 2010?\", context_user))"
   ]
  },
  {
   "cell_type": "markdown",
   "id": "e87a9a0a-c1b9-4759-b52f-f6547d29b4c8",
   "metadata": {
    "id": "e87a9a0a-c1b9-4759-b52f-f6547d29b4c8"
   },
   "source": [
    "For a model as large and good as GPT 3.5, a single shot is enough to learn the output format we expect.\n"
   ]
  },
  {
   "cell_type": "code",
   "execution_count": 5,
   "id": "33ac7693-6cf3-44f7-b2ff-55d8a36fe775",
   "metadata": {
    "colab": {
     "base_uri": "https://localhost:8080/"
    },
    "id": "33ac7693-6cf3-44f7-b2ff-55d8a36fe775",
    "outputId": "5278df23-8797-4dc2-9340-ac29c1318a9c"
   },
   "outputs": [
    {
     "name": "stdout",
     "output_type": "stream",
     "text": [
      "Driver: Sebastian Vettel.\n",
      "Team: Red Bull Racing.\n"
     ]
    }
   ],
   "source": [
    "#one-shot\n",
    "context_user = [\n",
    "    {'role':'system', 'content':\n",
    "     \"\"\"You are an expert in F1.\n",
    "\n",
    "     Who won the 2000 f1 championship?\n",
    "     Driver: Michael Schumacher.\n",
    "     Team: Ferrari.\"\"\"}\n",
    "]\n",
    "print(return_OAIResponse(\"Who won the F1 2011?\", context_user))"
   ]
  },
  {
   "cell_type": "markdown",
   "id": "32c454a8-181b-482b-873a-81d6ffde4674",
   "metadata": {
    "id": "32c454a8-181b-482b-873a-81d6ffde4674"
   },
   "source": [
    "Smaller models, or more complicated formats, may require more than one shot. Here a sample with two shots."
   ]
  },
  {
   "cell_type": "code",
   "execution_count": 6,
   "id": "8ce600f7-f92e-4cf7-be4a-408f12eb39d6",
   "metadata": {
    "colab": {
     "base_uri": "https://localhost:8080/"
    },
    "id": "8ce600f7-f92e-4cf7-be4a-408f12eb39d6",
    "outputId": "a6f90f5d-6d68-4b3d-ccb5-5848ae4e3e62"
   },
   "outputs": [
    {
     "name": "stdout",
     "output_type": "stream",
     "text": [
      "The F1 2006 championship was won by Fernando Alonso driving for Renault.\n"
     ]
    }
   ],
   "source": [
    "#Few shots\n",
    "context_user = [\n",
    "    {'role':'system', 'content':\n",
    "     \"\"\"You are an expert in F1.\n",
    "\n",
    "     Who won the 2010 f1 championship?\n",
    "     Driver: Sebastian Vettel.\n",
    "     Team: Red Bull Renault.\n",
    "\n",
    "     Who won the 2009 f1 championship?\n",
    "     Driver: Jenson Button.\n",
    "     Team: BrawnGP.\"\"\"}\n",
    "]\n",
    "print(return_OAIResponse(\"Who won the F1 2006?\", context_user))"
   ]
  },
  {
   "cell_type": "code",
   "execution_count": 7,
   "id": "4b29898a-f715-46d4-b74b-9f95d3112d38",
   "metadata": {
    "colab": {
     "base_uri": "https://localhost:8080/"
    },
    "id": "4b29898a-f715-46d4-b74b-9f95d3112d38",
    "outputId": "75f63fe3-0efc-45ed-dd45-71dbbb08d7a6"
   },
   "outputs": [
    {
     "name": "stdout",
     "output_type": "stream",
     "text": [
      "The 2019 F1 World Championship was won by Lewis Hamilton of Mercedes.\n"
     ]
    }
   ],
   "source": [
    "print(return_OAIResponse(\"Who won the F1 2019?\", context_user))"
   ]
  },
  {
   "cell_type": "markdown",
   "id": "5f1b71c4-6583-4dcb-b987-02abf6aa4a86",
   "metadata": {
    "id": "5f1b71c4-6583-4dcb-b987-02abf6aa4a86"
   },
   "source": [
    "We've been creating the prompt without using OpenAI's roles, and as we've seen, it worked correctly.\n",
    "\n",
    "However, the proper way to do this is by using these roles to construct the prompt, making the model's learning process even more effective.\n",
    "\n",
    "By not feeding it the entire prompt as if they were system commands, we enable the model to learn from a conversation, which is more realistic for it."
   ]
  },
  {
   "cell_type": "code",
   "execution_count": 8,
   "id": "20fa4a25-01a6-4f22-98db-ab7ccc9ba115",
   "metadata": {
    "colab": {
     "base_uri": "https://localhost:8080/"
    },
    "id": "20fa4a25-01a6-4f22-98db-ab7ccc9ba115",
    "outputId": "868d2040-ca3c-4a47-a1e8-1e08d581191d"
   },
   "outputs": [
    {
     "name": "stdout",
     "output_type": "stream",
     "text": [
      "Driver: Lewis Hamilton. \n",
      "Team: Mercedes. \n",
      "Points: 413.\n"
     ]
    }
   ],
   "source": [
    "#Recomended solution\n",
    "context_user = [\n",
    "    {'role':'system', 'content':'You are and expert in f1.\\n\\n'},\n",
    "    {'role':'user', 'content':'Who won the 2010 f1 championship?'},\n",
    "    {'role':'assistant', 'content':\"\"\"Driver: Sebastian Vettel. \\nTeam: Red Bull. \\nPoints: 256. \"\"\"},\n",
    "    {'role':'user', 'content':'Who won the 2009 f1 championship?'},\n",
    "    {'role':'assistant', 'content':\"\"\"Driver: Jenson Button. \\nTeam: BrawnGP. \\nPoints: 95. \"\"\"},\n",
    "]\n",
    "\n",
    "print(return_OAIResponse(\"Who won the F1 2019?\", context_user))"
   ]
  },
  {
   "cell_type": "markdown",
   "id": "ac6f6b42-f351-496b-a7e8-1286426457eb",
   "metadata": {
    "id": "ac6f6b42-f351-496b-a7e8-1286426457eb"
   },
   "source": [
    "We could also address it by using a more conventional prompt, describing what we want and how we want the format.\n",
    "\n",
    "However, it's essential to understand that in this case, the model is following instructions, whereas in the case of use shots, it is learning in real-time during inference."
   ]
  },
  {
   "cell_type": "code",
   "execution_count": 9,
   "id": "36c32a32-c348-45b2-85ee-ab4500438c49",
   "metadata": {
    "colab": {
     "base_uri": "https://localhost:8080/"
    },
    "id": "36c32a32-c348-45b2-85ee-ab4500438c49",
    "outputId": "4c970dde-37ff-41a9-8d4e-37bb727f47a6"
   },
   "outputs": [
    {
     "name": "stdout",
     "output_type": "stream",
     "text": [
      "Driver: Lewis Hamilton\n",
      "Team: Mercedes\n",
      "Points: 413\n"
     ]
    }
   ],
   "source": [
    "context_user = [\n",
    "    {'role':'system', 'content':\"\"\"You are and expert in f1.\n",
    "    You are going to answer the question of the user giving the name of the rider,\n",
    "    the name of the team and the points of the champion, following the format:\n",
    "    Drive:\n",
    "    Team:\n",
    "    Points: \"\"\"\n",
    "    }\n",
    "]\n",
    "\n",
    "print(return_OAIResponse(\"Who won the F1 2019?\", context_user))"
   ]
  },
  {
   "cell_type": "code",
   "execution_count": 10,
   "id": "KNDL1GzVngyL",
   "metadata": {
    "id": "KNDL1GzVngyL"
   },
   "outputs": [
    {
     "name": "stdout",
     "output_type": "stream",
     "text": [
      "Driver: Fernando Alonso.\n",
      "Team: Renault.\n"
     ]
    }
   ],
   "source": [
    "context_user = [\n",
    "    {'role':'system', 'content':\n",
    "     \"\"\"You are classifying .\n",
    "\n",
    "     Who won the 2010 f1 championship?\n",
    "     Driver: Sebastian Vettel.\n",
    "     Team: Red Bull Renault.\n",
    "\n",
    "     Who won the 2009 f1 championship?\n",
    "     Driver: Jenson Button.\n",
    "     Team: BrawnGP.\"\"\"}\n",
    "]\n",
    "print(return_OAIResponse(\"Who won the F1 2006?\", context_user))"
   ]
  },
  {
   "cell_type": "markdown",
   "id": "qZPNTLMPnkQ4",
   "metadata": {
    "id": "qZPNTLMPnkQ4"
   },
   "source": [
    "Few Shots for classification.\n"
   ]
  },
  {
   "cell_type": "code",
   "execution_count": 11,
   "id": "ejcstgTxnnX5",
   "metadata": {
    "colab": {
     "base_uri": "https://localhost:8080/"
    },
    "id": "ejcstgTxnnX5",
    "outputId": "4b91cc73-18f6-4944-a46b-806b02b7becb"
   },
   "outputs": [
    {
     "name": "stdout",
     "output_type": "stream",
     "text": [
      "Sentiment: Neutral\n"
     ]
    }
   ],
   "source": [
    "context_user = [\n",
    "    {'role':'system', 'content':\n",
    "     \"\"\"You are an expert in reviewing product opinions and classifying them as positive or negative.\n",
    "\n",
    "     It fulfilled its function perfectly, I think the price is fair, I would buy it again.\n",
    "     Sentiment: Positive\n",
    "\n",
    "     It didn't work bad, but I wouldn't buy it again, maybe it's a bit expensive for what it does.\n",
    "     Sentiment: Negative.\n",
    "\n",
    "     I wouldn't know what to say, my son uses it, but he doesn't love it.\n",
    "     Sentiment: Neutral\n",
    "     \"\"\"}\n",
    "]\n",
    "print(return_OAIResponse(\"I'm not going to return it, but I don't plan to buy it again.\", context_user))"
   ]
  },
  {
   "cell_type": "markdown",
   "id": "ffe1d50b-d262-4e74-8f2d-3559f3fcfb15",
   "metadata": {
    "id": "ZHr_75sDqDJp"
   },
   "source": [
    "# Exercise\n",
    " - Complete the prompts similar to what we did in class. \n",
    "     - Try at least 3 versions\n",
    "     - Be creative\n",
    " - Write a one page report summarizing your findings.\n",
    "     - Were there variations that didn't work well? i.e., where GPT either hallucinated or wrong\n",
    " - What did you learn?"
   ]
  },
  {
   "cell_type": "code",
   "execution_count": 17,
   "id": "9adda59c-ad09-4e9d-88cd-54f42384a5f3",
   "metadata": {},
   "outputs": [
    {
     "name": "stdout",
     "output_type": "stream",
     "text": [
      "Prompt 1: Write  about The engineers.\n",
      "\n",
      "Response:\n",
      "Certainly! \"The Engineers\" can refer to many different contexts, depending on what you're specifically interested in. Generally, engineers are professionals who apply scientific and mathematical principles to design, develop, and innovate structures, machines, systems, and processes that solve real-world problems. Here's an overview of the role and impact of engineers across various fields:\n",
      "\n",
      "### The Role of Engineers\n",
      "\n",
      "#### 1. **Disciplines and Specializations**\n",
      "Engineers are found in virtually every sector and are often specialized by discipline, such as:\n",
      "\n",
      "- **Civil Engineering**: Focuses on infrastructure projects like bridges, roads, and buildings. Civil engineers design, construct, and maintain the built environment.\n",
      "  \n",
      "- **Mechanical Engineering**: Involves the design and manufacturing of mechanical systems, from engines to HVAC systems.\n",
      "  \n",
      "- **Electrical Engineering**: Concerns the study and application of electricity, electronics, and electromagnetism. This field covers a wide range from power generation to consumer electronics.\n",
      "  \n",
      "- **Software Engineering**: Involves designing, developing, and maintaining software systems. Software engineers work on applications, systems, and real-time software development.\n",
      "  \n",
      "- **Chemical Engineering**: Combines physical sciences with life sciences to process materials and chemicals into useful products.\n",
      "\n",
      "- **Aerospace Engineering**: Deals with the development of aircraft and spacecraft, including both aeronautics and astronautics.\n",
      "\n",
      "#### 2. **Problem Solving and Innovation**\n",
      "Engineers are problem solvers at heart. They tackle challenges through analytical thinking and creative solutions, using a combination of theoretical knowledge and practical experience. Their work often involves:\n",
      "\n",
      "- **Design**: Creating blueprints and prototypes for new products or systems.\n",
      "  \n",
      "- **Analysis**: Assessing designs and processes to ensure they meet necessary standards and benchmarks.\n",
      "  \n",
      "- **Project Management**: Leading projects from conception through completion, managing teams and resources effectively.\n",
      "  \n",
      "- **Sustainability**: Integrating eco-friendly practices and technologies to create more sustainable solutions.\n",
      "\n",
      "### Impact of Engineers\n",
      "\n",
      "#### 1. **Economic Growth**\n",
      "Engineers contribute significantly to economic development by driving innovation and increasing efficiency. Through the development of new technologies and infrastructure, they help create new industries and improve productivity.\n",
      "\n",
      "#### 2. **Improving Quality of Life**\n",
      "From medical devices to clean water systems, engineers have played a crucial role in improving the quality of life. Their contributions to healthcare, transportation, communication, and energy sectors have transformed how people live and interact.\n",
      "\n",
      "#### 3. **Technological Advancement**\n",
      "Engineering drives much of the technological progress that underpins modern society. Engineers work at the cutting edge of technology to develop advanced materials, automation, information systems, and more.\n",
      "\n",
      "#### 4. **Sustainability and Environment**\n",
      "Engineers are at the forefront of developing sustainable technologies that minimize environmental impact. This includes renewable energy systems, waste reduction technologies, and sustainable building materials.\n",
      "\n",
      "### Challenges Facing Engineers\n",
      "\n",
      "Despite their essential role, engineers face several challenges:\n",
      "\n",
      "- **Ethical Dilemmas**: Balancing innovation with ethical considerations, such as privacy concerns and environmental impact.\n",
      "  \n",
      "- **Keeping Up with Rapid Technological Change**: Continual learning is critical to stay ahead in a rapidly evolving field.\n",
      "  \n",
      "- **Global Collaboration**: Engineers often work on international teams, which requires strong communication skills and cross-cultural understanding.\n",
      "\n",
      "In summary, engineers are a diverse and integral part of modern society, driving technological innovation and improving living standards worldwide. Their ability to transform ideas into practical solutions makes them essential contributors to progress across multiple domains.\n",
      "\n",
      "--------------------------------------------------\n",
      "Prompt 2: Write about al-baha city.\n",
      "\n",
      "Response:\n",
      "Al-Baha is a city in the southwestern part of Saudi Arabia and serves as the capital of the Al-Baha Province. Nestled in the picturesque Sarawat Mountains, Al-Baha is renowned for its breathtaking landscapes, pleasant climate, and rich cultural heritage. The city is an attractive destination for both tourists and locals due to its unique blend of natural beauty, historical significance, and burgeoning modernity.\n",
      "\n",
      "The region is characterized by its cool temperatures, especially in summer, which is a pleasant contrast to the typically hot climate of Saudi Arabia. This has made it a popular summer retreat within the kingdom. The natural beauty of Al-Baha is accentuated by its lush valleys, ancient terraced farms, and diverse flora and fauna, providing numerous opportunities for nature enthusiasts and hikers to explore its scenic trails and pristine wilderness.\n",
      "\n",
      "In terms of cultural heritage, Al-Baha is famous for its traditional stone-built architecture known as \"qasaba,\" which can be found throughout the city and surrounding villages. These structures, some of which are centuries old, offer a glimpse into the past and the architectural ingenuity of the region's inhabitants. The city also hosts several annual festivals that celebrate local culture, arts, and traditions, further enriching the cultural tapestry of the area.\n",
      "\n",
      "Al-Baha is home to numerous historical sites and attractions, such as the ancient village of Dhee Ayn, known for its unique stone houses and picturesque location on a marble hill. Other popular destinations include the Raghadan Forest Park, which provides a tranquil setting surrounded by stunning views, and the Al-Baha Museum, which offers insights into the region's history and heritage.\n",
      "\n",
      "The local economy traditionally revolved around agriculture, with the fertile lands supporting the cultivation of crops like coffee, honey, and various fruits. However, in recent years, there has been a significant push towards developing infrastructure, tourism, and education to diversify the region's economic base. This has led to improvements in transportation, with new roads and facilities enhancing connectivity.\n",
      "\n",
      "Overall, Al-Baha is a city that beautifully marries its natural splendor with cultural depth and modern amenities, making it a captivating destination for visitors and a testament to Saudi Arabia's diverse landscapes and heritage.\n",
      "\n",
      "--------------------------------------------------\n",
      "Report saved as 'GPT_Report.txt'.\n"
     ]
    }
   ],
   "source": [
    "import openai\n",
    "\n",
    "\n",
    "\n",
    "client = openai.OpenAI(api_key=OPENAI_API_KEY)\n",
    "\n",
    "def ask_gpt(prompt):\n",
    "    response = client.chat.completions.create(\n",
    "        model=\"gpt-4o\",\n",
    "        messages=[{\"role\": \"user\", \"content\": prompt}]\n",
    "    )\n",
    "    return response.choices[0].message.content\n",
    "\n",
    "prompts = [\n",
    "    \"Write  about The engineers.\",\n",
    "    \"Write about al-baha city.\"\n",
    "]\n",
    "\n",
    "results = {}\n",
    "for i, prompt in enumerate(prompts, 1):\n",
    "    print(f\"Prompt {i}: {prompt}\\n\")\n",
    "    response = ask_gpt(prompt)\n",
    "    results[prompt] = response\n",
    "    print(f\"Response:\\n{response}\\n\")\n",
    "    print(\"-\" * 50)\n",
    "\n",
    "report = \"### Report on GPT Prompt Experiment\\n\\n\"\n",
    "for prompt, response in results.items():\n",
    "    report += f\"*Prompt:* {prompt}\\n\\n\"\n",
    "    report += f\"*Response:* {response[:500]}...\\n\\n\"\n",
    "    report += \"-\" * 50 + \"\\n\"\n",
    "\n",
    "with open(\"GPT_Report.txt\", \"w\", encoding=\"utf-8\") as file:\n",
    "    file.write(report)\n",
    "\n",
    "print(\"Report saved as 'GPT_Report.txt'.\")\n"
   ]
  },
  {
   "cell_type": "code",
   "execution_count": null,
   "id": "70bce0c9-27c7-4ce4-a258-0cbfedf847ea",
   "metadata": {},
   "outputs": [],
   "source": []
  }
 ],
 "metadata": {
  "colab": {
   "include_colab_link": true,
   "provenance": []
  },
  "kernelspec": {
   "display_name": "Python 3 (ipykernel)",
   "language": "python",
   "name": "python3"
  },
  "language_info": {
   "codemirror_mode": {
    "name": "ipython",
    "version": 3
   },
   "file_extension": ".py",
   "mimetype": "text/x-python",
   "name": "python",
   "nbconvert_exporter": "python",
   "pygments_lexer": "ipython3",
   "version": "3.10.13"
  }
 },
 "nbformat": 4,
 "nbformat_minor": 5
}
