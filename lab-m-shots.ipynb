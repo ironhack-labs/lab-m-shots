{
 "cells": [
  {
   "cell_type": "markdown",
   "id": "24b19fff-8f42-4e9f-a73e-00cff106805a",
   "metadata": {},
   "source": [
    "# M-Shots Learning"
   ]
  },
  {
   "cell_type": "markdown",
   "id": "34723a72-1601-4685-a0ba-bff544425d48",
   "metadata": {
    "id": "34723a72-1601-4685-a0ba-bff544425d48"
   },
   "source": [
    "In this notebook, we'll explore small prompt engineering techniques and recommendations that will help us elicit responses from the models that are better suited to our needs."
   ]
  },
  {
   "cell_type": "code",
   "execution_count": 2,
   "id": "fba193cc-d8a0-4ad2-8177-380204426859",
   "metadata": {
    "id": "fba193cc-d8a0-4ad2-8177-380204426859"
   },
   "outputs": [],
   "source": [
    "from openai import OpenAI\n",
    "import os\n",
    "\n",
    "from dotenv import load_dotenv, find_dotenv\n",
    "_ = load_dotenv(find_dotenv()) # read local .env file\n",
    "\n",
    "OPENAI_API_KEY  = os.getenv('OPENAI_API_KEY')"
   ]
  },
  {
   "cell_type": "markdown",
   "id": "502cfc93-21e0-498f-9650-37bc6ddd514d",
   "metadata": {
    "id": "502cfc93-21e0-498f-9650-37bc6ddd514d"
   },
   "source": [
    "# Formatting the answer with Few Shot Samples.\n",
    "\n",
    "To obtain the model's response in a specific format, we have various options, but one of the most convenient is to use Few-Shot Samples. This involves presenting the model with pairs of user queries and example responses.\n",
    "\n",
    "Large models like GPT-3.5 respond well to the examples provided, adapting their response to the specified format.\n",
    "\n",
    "Depending on the number of examples given, this technique can be referred to as:\n",
    "* Zero-Shot.\n",
    "* One-Shot.\n",
    "* Few-Shots.\n",
    "\n",
    "With One Shot should be enough, and it is recommended to use a maximum of six shots. It's important to remember that this information is passed in each query and occupies space in the input prompt.\n",
    "\n"
   ]
  },
  {
   "cell_type": "code",
   "execution_count": 3,
   "id": "a8344712-06d7-4c24-83d8-f36d62926e5e",
   "metadata": {
    "id": "a8344712-06d7-4c24-83d8-f36d62926e5e"
   },
   "outputs": [],
   "source": [
    "# Function to call the model.\n",
    "def return_OAIResponse(user_message, context):\n",
    "    client = OpenAI(\n",
    "    # This is the default and can be omitted\n",
    "    api_key=OPENAI_API_KEY,\n",
    ")\n",
    "\n",
    "    newcontext = context.copy()\n",
    "    newcontext.append({'role':'user', 'content':\"question: \" + user_message})\n",
    "\n",
    "    response = client.chat.completions.create(\n",
    "            model=\"gpt-3.5-turbo\",\n",
    "            messages=newcontext,\n",
    "            temperature=1,\n",
    "        )\n",
    "\n",
    "    return (response.choices[0].message.content)"
   ]
  },
  {
   "cell_type": "markdown",
   "id": "f611d73d-9330-466d-b705-543667e1b561",
   "metadata": {
    "id": "f611d73d-9330-466d-b705-543667e1b561"
   },
   "source": [
    "In this zero-shots prompt we obtain a correct response, but without formatting, as the model incorporates the information he wants."
   ]
  },
  {
   "cell_type": "code",
   "execution_count": 4,
   "id": "647790be-fdb8-4692-a82e-7e3a0220f72a",
   "metadata": {
    "colab": {
     "base_uri": "https://localhost:8080/"
    },
    "id": "647790be-fdb8-4692-a82e-7e3a0220f72a",
    "outputId": "4c4a9f4f-67c9-4a11-837f-1a1fd6b516ff"
   },
   "outputs": [
    {
     "name": "stdout",
     "output_type": "stream",
     "text": [
      "Sebastian Vettel won the Formula 1 World Championship in 2010, driving for Red Bull Racing.\n"
     ]
    }
   ],
   "source": [
    "#zero-shot\n",
    "context_user = [\n",
    "    {'role':'system', 'content':'You are an expert in F1.'}\n",
    "]\n",
    "print(return_OAIResponse(\"Who won the F1 2010?\", context_user))"
   ]
  },
  {
   "cell_type": "markdown",
   "id": "e87a9a0a-c1b9-4759-b52f-f6547d29b4c8",
   "metadata": {
    "id": "e87a9a0a-c1b9-4759-b52f-f6547d29b4c8"
   },
   "source": [
    "For a model as large and good as GPT 3.5, a single shot is enough to learn the output format we expect.\n"
   ]
  },
  {
   "cell_type": "code",
   "execution_count": 5,
   "id": "33ac7693-6cf3-44f7-b2ff-55d8a36fe775",
   "metadata": {
    "colab": {
     "base_uri": "https://localhost:8080/"
    },
    "id": "33ac7693-6cf3-44f7-b2ff-55d8a36fe775",
    "outputId": "5278df23-8797-4dc2-9340-ac29c1318a9c"
   },
   "outputs": [
    {
     "name": "stdout",
     "output_type": "stream",
     "text": [
      "Driver: Sebastian Vettel.\n",
      "Team: Red Bull Racing.\n"
     ]
    }
   ],
   "source": [
    "#one-shot\n",
    "context_user = [\n",
    "    {'role':'system', 'content':\n",
    "     \"\"\"You are an expert in F1.\n",
    "\n",
    "     Who won the 2000 f1 championship?\n",
    "     Driver: Michael Schumacher.\n",
    "     Team: Ferrari.\"\"\"}\n",
    "]\n",
    "print(return_OAIResponse(\"Who won the F1 2011?\", context_user))"
   ]
  },
  {
   "cell_type": "markdown",
   "id": "32c454a8-181b-482b-873a-81d6ffde4674",
   "metadata": {
    "id": "32c454a8-181b-482b-873a-81d6ffde4674"
   },
   "source": [
    "Smaller models, or more complicated formats, may require more than one shot. Here a sample with two shots."
   ]
  },
  {
   "cell_type": "code",
   "execution_count": 6,
   "id": "8ce600f7-f92e-4cf7-be4a-408f12eb39d6",
   "metadata": {
    "colab": {
     "base_uri": "https://localhost:8080/"
    },
    "id": "8ce600f7-f92e-4cf7-be4a-408f12eb39d6",
    "outputId": "a6f90f5d-6d68-4b3d-ccb5-5848ae4e3e62"
   },
   "outputs": [
    {
     "name": "stdout",
     "output_type": "stream",
     "text": [
      "Driver: Fernando Alonso.\n",
      "Team: Renault.\n"
     ]
    }
   ],
   "source": [
    "#Few shots\n",
    "context_user = [\n",
    "    {'role':'system', 'content':\n",
    "     \"\"\"You are an expert in F1.\n",
    "\n",
    "     Who won the 2010 f1 championship?\n",
    "     Driver: Sebastian Vettel.\n",
    "     Team: Red Bull Renault.\n",
    "\n",
    "     Who won the 2009 f1 championship?\n",
    "     Driver: Jenson Button.\n",
    "     Team: BrawnGP.\"\"\"}\n",
    "]\n",
    "print(return_OAIResponse(\"Who won the F1 2006?\", context_user))"
   ]
  },
  {
   "cell_type": "code",
   "execution_count": 7,
   "id": "4b29898a-f715-46d4-b74b-9f95d3112d38",
   "metadata": {
    "colab": {
     "base_uri": "https://localhost:8080/"
    },
    "id": "4b29898a-f715-46d4-b74b-9f95d3112d38",
    "outputId": "75f63fe3-0efc-45ed-dd45-71dbbb08d7a6"
   },
   "outputs": [
    {
     "name": "stdout",
     "output_type": "stream",
     "text": [
      "Driver: Lewis Hamilton.\n",
      "Team: Mercedes-Benz.\n"
     ]
    }
   ],
   "source": [
    "print(return_OAIResponse(\"Who won the F1 2019?\", context_user))"
   ]
  },
  {
   "cell_type": "markdown",
   "id": "5f1b71c4-6583-4dcb-b987-02abf6aa4a86",
   "metadata": {
    "id": "5f1b71c4-6583-4dcb-b987-02abf6aa4a86"
   },
   "source": [
    "We've been creating the prompt without using OpenAI's roles, and as we've seen, it worked correctly.\n",
    "\n",
    "However, the proper way to do this is by using these roles to construct the prompt, making the model's learning process even more effective.\n",
    "\n",
    "By not feeding it the entire prompt as if they were system commands, we enable the model to learn from a conversation, which is more realistic for it."
   ]
  },
  {
   "cell_type": "code",
   "execution_count": 8,
   "id": "20fa4a25-01a6-4f22-98db-ab7ccc9ba115",
   "metadata": {
    "colab": {
     "base_uri": "https://localhost:8080/"
    },
    "id": "20fa4a25-01a6-4f22-98db-ab7ccc9ba115",
    "outputId": "868d2040-ca3c-4a47-a1e8-1e08d581191d"
   },
   "outputs": [
    {
     "name": "stdout",
     "output_type": "stream",
     "text": [
      "Driver: Lewis Hamilton. \n",
      "Team: Mercedes. \n",
      "Points: 413.\n"
     ]
    }
   ],
   "source": [
    "#Recomended solution\n",
    "context_user = [\n",
    "    {'role':'system', 'content':'You are and expert in f1.\\n\\n'},\n",
    "    {'role':'user', 'content':'Who won the 2010 f1 championship?'},\n",
    "    {'role':'assistant', 'content':\"\"\"Driver: Sebastian Vettel. \\nTeam: Red Bull. \\nPoints: 256. \"\"\"},\n",
    "    {'role':'user', 'content':'Who won the 2009 f1 championship?'},\n",
    "    {'role':'assistant', 'content':\"\"\"Driver: Jenson Button. \\nTeam: BrawnGP. \\nPoints: 95. \"\"\"},\n",
    "]\n",
    "\n",
    "print(return_OAIResponse(\"Who won the F1 2019?\", context_user))"
   ]
  },
  {
   "cell_type": "markdown",
   "id": "ac6f6b42-f351-496b-a7e8-1286426457eb",
   "metadata": {
    "id": "ac6f6b42-f351-496b-a7e8-1286426457eb"
   },
   "source": [
    "We could also address it by using a more conventional prompt, describing what we want and how we want the format.\n",
    "\n",
    "However, it's essential to understand that in this case, the model is following instructions, whereas in the case of use shots, it is learning in real-time during inference."
   ]
  },
  {
   "cell_type": "code",
   "execution_count": 9,
   "id": "36c32a32-c348-45b2-85ee-ab4500438c49",
   "metadata": {
    "colab": {
     "base_uri": "https://localhost:8080/"
    },
    "id": "36c32a32-c348-45b2-85ee-ab4500438c49",
    "outputId": "4c970dde-37ff-41a9-8d4e-37bb727f47a6"
   },
   "outputs": [
    {
     "name": "stdout",
     "output_type": "stream",
     "text": [
      "Driver: Lewis Hamilton\n",
      "Team: Mercedes\n",
      "Points: 413\n"
     ]
    }
   ],
   "source": [
    "context_user = [\n",
    "    {'role':'system', 'content':\"\"\"You are and expert in f1.\n",
    "    You are going to answer the question of the user giving the name of the rider,\n",
    "    the name of the team and the points of the champion, following the format:\n",
    "    Drive:\n",
    "    Team:\n",
    "    Points: \"\"\"\n",
    "    }\n",
    "]\n",
    "\n",
    "print(return_OAIResponse(\"Who won the F1 2019?\", context_user))"
   ]
  },
  {
   "cell_type": "code",
   "execution_count": 10,
   "id": "KNDL1GzVngyL",
   "metadata": {
    "id": "KNDL1GzVngyL"
   },
   "outputs": [
    {
     "name": "stdout",
     "output_type": "stream",
     "text": [
      "Classifier: F1 Championship Winner\n",
      "\n",
      "     The 2006 F1 Championship was won by Driver: Fernando Alonso, representing Team: Renault.\n"
     ]
    }
   ],
   "source": [
    "context_user = [\n",
    "    {'role':'system', 'content':\n",
    "     \"\"\"You are classifying .\n",
    "\n",
    "     Who won the 2010 f1 championship?\n",
    "     Driver: Sebastian Vettel.\n",
    "     Team: Red Bull Renault.\n",
    "\n",
    "     Who won the 2009 f1 championship?\n",
    "     Driver: Jenson Button.\n",
    "     Team: BrawnGP.\"\"\"}\n",
    "]\n",
    "print(return_OAIResponse(\"Who won the F1 2006?\", context_user))"
   ]
  },
  {
   "cell_type": "markdown",
   "id": "qZPNTLMPnkQ4",
   "metadata": {
    "id": "qZPNTLMPnkQ4"
   },
   "source": [
    "Few Shots for classification.\n"
   ]
  },
  {
   "cell_type": "code",
   "execution_count": 11,
   "id": "ejcstgTxnnX5",
   "metadata": {
    "colab": {
     "base_uri": "https://localhost:8080/"
    },
    "id": "ejcstgTxnnX5",
    "outputId": "4b91cc73-18f6-4944-a46b-806b02b7becb"
   },
   "outputs": [
    {
     "name": "stdout",
     "output_type": "stream",
     "text": [
      "Sentiment: Neutral\n"
     ]
    }
   ],
   "source": [
    "context_user = [\n",
    "    {'role':'system', 'content':\n",
    "     \"\"\"You are an expert in reviewing product opinions and classifying them as positive or negative.\n",
    "\n",
    "     It fulfilled its function perfectly, I think the price is fair, I would buy it again.\n",
    "     Sentiment: Positive\n",
    "\n",
    "     It didn't work bad, but I wouldn't buy it again, maybe it's a bit expensive for what it does.\n",
    "     Sentiment: Negative.\n",
    "\n",
    "     I wouldn't know what to say, my son uses it, but he doesn't love it.\n",
    "     Sentiment: Neutral\n",
    "     \"\"\"}\n",
    "]\n",
    "print(return_OAIResponse(\"I'm not going to return it, but I don't plan to buy it again.\", context_user))"
   ]
  },
  {
   "cell_type": "markdown",
   "id": "ffe1d50b-d262-4e74-8f2d-3559f3fcfb15",
   "metadata": {
    "id": "ZHr_75sDqDJp"
   },
   "source": [
    "# Exercise\n",
    " - Complete the prompts similar to what we did in class. \n",
    "     - Try at least 3 versions\n",
    "     - Be creative\n",
    " - Write a one page report summarizing your findings.\n",
    "     - Were there variations that didn't work well? i.e., where GPT either hallucinated or wrong\n",
    " - What did you learn?"
   ]
  },
  {
   "cell_type": "markdown",
   "id": "1684eb3d",
   "metadata": {},
   "source": [
    "# 1st Version "
   ]
  },
  {
   "cell_type": "code",
   "execution_count": 12,
   "id": "9adda59c-ad09-4e9d-88cd-54f42384a5f3",
   "metadata": {},
   "outputs": [
    {
     "name": "stdout",
     "output_type": "stream",
     "text": [
      "You will have a good day tomorrow, enjoy it.\n",
      "You will find love soon, be patient. The stars are aligning in your favor for a new romantic connection to come into your life. Keep an open heart and mind, and you will attract the love you deserve.\n",
      "You will have a great opportunity in the future, take advantage of it. Just stay open and ready for new possibilities that come your way.\n",
      "As an astrologer, I would say that your compatible sign could be Aries since you identify with that sign. Trust your instincts and follow your heart when it comes to compatibility. Astrology is a tool for guidance, but ultimately, love and connections transcend signs.\n"
     ]
    }
   ],
   "source": [
    "context_user = [\n",
    "    {'role':'system', 'content':\n",
    "     \"\"\"You are an astrologer.\n",
    "     Your going to answer the user's question about their future.\n",
    "\n",
    "       What will happen to me in the future?\n",
    "         You will have a great opportunity in the future, take advantage of it.\n",
    "\n",
    "         Will I find love soon?\n",
    "         You will find love soon, be patient.\n",
    "\n",
    "         Will I have a good day tomorrow?\n",
    "         You will have a good day tomorrow, enjoy it.\n",
    "     \"\"\"}\n",
    "]\n",
    "\n",
    "print(return_OAIResponse(\"Will I have a good day tomorrow?\", context_user))\n",
    "print(return_OAIResponse(\"Will I find love soon?\", context_user))\n",
    "print(return_OAIResponse(\"What will happen to me in the future?\", context_user))\n",
    "print(return_OAIResponse(\"What is my compatible sign, im a scorpio but i identify as a aries\", context_user))"
   ]
  },
  {
   "cell_type": "markdown",
   "id": "edbcde25",
   "metadata": {},
   "source": [
    "# 2nd Version"
   ]
  },
  {
   "cell_type": "code",
   "execution_count": null,
   "id": "0fe5da7b",
   "metadata": {},
   "outputs": [
    {
     "name": "stdout",
     "output_type": "stream",
     "text": [
      "Those born in November are commonly known to be Scorpios if their birthday falls between November 1st and November 21st, and Sagittarians if their birthday falls between November 22nd and November 30th. Scorpios are known for their intensity, passion, and resourcefulness, while Sagittarians are known for their optimism, adventure, and love for freedom.\n",
      "I'm sorry for any confusion, but I can only provide information based on traditional astrology that includes the 12 zodiac signs commonly used in Western astrology. If you have a question or would like information related to one of those signs, feel free to ask!\n",
      "I'm sorry, but there is no known astrological sign called \"Zebra\" in traditional western astrology. It's possible that you may have come across a different astrological system or a more modern interpretation. If you have any more information about the characteristics or traits associated with the \"Zebra\" sign, I may be able to provide more insight.\n",
      "As an expert in astrology, I can confirm that there is no astrological zodiac sign specifically associated with the Zebra. In astrology, zodiac signs are based on the position of the sun at the time of a person's birth and are not assigned to animals. The zodiac signs are Aries, Taurus, Gemini, Cancer, Leo, Virgo, Libra, Scorpio, Sagittarius, Capricorn, Aquarius, and Pisces. So, the Zebra would not have a zodiac sign in the traditional astrological sense.\n",
      "As an astrologer, I can provide insights into how a potato may be symbolically associated with certain zodiac signs. For example, the down-to-earth and practical nature of a potato could be linked to Taurus, known for their love of comfort and stability. Alternatively, the adaptability and versatility of a potato could align with the adaptable nature of Gemini. Overall, examining the qualities of a potato through an astrological lens can offer a unique perspective on its symbolic meaning and potential connections to the zodiac signs.\n",
      "As an expert in astrology, I can confirm that in traditional Western astrology, there is no zodiac sign associated with a potato. The zodiac signs are based on the position of the sun at the time of a person's birth and do not apply to fruits, vegetables, or other non-living things.\n",
      "From an astrological perspective, the alignment of the planets does not indicate that there is any truth to the claim that a potato is an animal. Astrology focuses on the observation and interpretation of the positions and movements of celestial bodies to understand and interpret events and energies here on Earth. In this case, it is unlikely that astrology would support the notion that a potato is an animal.\n",
      "As an expert in astrology, I can tell you that astrology does not support the concept of marrying inanimate objects, including bananas. In astrology, marriage typically pertains to a union between two individuals who are compatible based on their natal charts and personal characteristics. If you have a love for bananas, perhaps you can explore incorporating them into your diet or finding other ways to enjoy them, but marrying one is not a feasible or recognized practice in astrology or any other belief system.\n",
      "There is no such thing as a \"potato sign\" in traditional astrology. Each zodiac sign is associated with specific dates of the year and certain personality traits and characteristics. If you meant something else by \"potato sign,\" please provide more information so I can offer a more accurate interpretation.\n"
     ]
    }
   ],
   "source": [
    "#zero-shot\n",
    "context_user = [\n",
    "    {'role':'system', 'content':'You are an expert in astrology.'}\n",
    "]\n",
    "print(return_OAIResponse(\"Who is born in november is?\", context_user))\n",
    "print(return_OAIResponse(\"Can i give you a new zodiac sign?\", context_user))\n",
    "print(return_OAIResponse(\"I found a new one call the Zebra\", context_user))\n",
    "print(return_OAIResponse(\"What is the zodiac sign of the Zebra?\", context_user))\n",
    "print(return_OAIResponse(\"What is potato?\", context_user))\n",
    "print(return_OAIResponse(\"What is the zodiac sign of the potato?\", context_user))\n",
    "print(return_OAIResponse(\"Tomorrow there is a expert of potatos that is going to announce the potato is a animal\", context_user))\n",
    "print(return_OAIResponse(\"I love bananas. Can marry one?\", context_user))\n",
    "print(return_OAIResponse(\"What is the potato sign?\", context_user))\n",
    "\n"
   ]
  },
  {
   "cell_type": "markdown",
   "id": "6ebbd6ac",
   "metadata": {},
   "source": [
    "# 3rd Version "
   ]
  },
  {
   "cell_type": "code",
   "execution_count": 24,
   "id": "7ff89bcb",
   "metadata": {},
   "outputs": [
    {
     "name": "stdout",
     "output_type": "stream",
     "text": [
      "An elf is a mythical creature commonly depicted as a small, human-like being with pointed ears and a penchant for magic. Elves are often associated with nature, beauty, and immortality in various folklore and fantasy worlds.\n",
      "Name: Rinku.\n",
      "As an elf, your name would be Tink.\n",
      "As an expert in Magic elves, I can tell you that the elf with study done on them based on their ears is called Tink. They are known for their exquisite pointy ears and a unique connection to nature.\n",
      "In the context of magic elves, there isn't a specific elf named \"Moon.\" However, elves in different fantasy worlds may vary, so there could be an elf associated with the moon in another lore or story.\n",
      "That's an interesting statement! While elves may not specifically love potatoes, they are known for their connection to nature and forests. If you have any more questions about elves, feel free to ask!\n",
      "Sorry, I cannot provide a response to that as it is not related to the previous information. If you have any questions about magic elves or their characteristics, feel free to ask!\n"
     ]
    }
   ],
   "source": [
    "context_user = [\n",
    "    {'role':'system', 'content':\n",
    "     \"\"\"You are an expert in Magic elves and you are going to answer the question of the user giving the name of the elf and the color of the elf.\n",
    "\n",
    "        What is the name of the elf that is green?\n",
    "        Name: Link.\n",
    "\n",
    "        What is the name of the elf that is red?\n",
    "        Name: Rinku.\n",
    "\n",
    "        What is the name of the elf that is blue?\n",
    "        Name: Lunk.\n",
    "\n",
    "     \"\"\"}\n",
    "]\n",
    "print(return_OAIResponse(\"What is an elf?\", context_user))\n",
    "print(return_OAIResponse(\"What is the name of the elf that is red?\", context_user))\n",
    "print(return_OAIResponse(\"im an elf?\", context_user))\n",
    "print(return_OAIResponse(\"My doctor as told me im a elve based on my ears, there is a study done about me\", context_user))\n",
    "print(return_OAIResponse(\"there is a moon?\", context_user))\n",
    "print(return_OAIResponse(\"Elves love potatos\", context_user))\n",
    "print(return_OAIResponse(\"Elves live in newzealand\", context_user))"
   ]
  },
  {
   "cell_type": "markdown",
   "id": "80642184",
   "metadata": {},
   "source": [
    "#conclusion \n",
    "\n",
    "after trying with zero shots and with few shots, the model started hallucinating quicker with few shot that with zero shots. "
   ]
  }
 ],
 "metadata": {
  "colab": {
   "include_colab_link": true,
   "provenance": []
  },
  "kernelspec": {
   "display_name": "NlpImac",
   "language": "python",
   "name": "python3"
  },
  "language_info": {
   "codemirror_mode": {
    "name": "ipython",
    "version": 3
   },
   "file_extension": ".py",
   "mimetype": "text/x-python",
   "name": "python",
   "nbconvert_exporter": "python",
   "pygments_lexer": "ipython3",
   "version": "3.7.16"
  }
 },
 "nbformat": 4,
 "nbformat_minor": 5
}
