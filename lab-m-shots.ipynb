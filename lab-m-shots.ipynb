{
 "cells": [
  {
   "cell_type": "markdown",
   "id": "24b19fff-8f42-4e9f-a73e-00cff106805a",
   "metadata": {},
   "source": [
    "# M-Shots Learning"
   ]
  },
  {
   "cell_type": "markdown",
   "id": "34723a72-1601-4685-a0ba-bff544425d48",
   "metadata": {
    "id": "34723a72-1601-4685-a0ba-bff544425d48"
   },
   "source": [
    "In this notebook, we'll explore small prompt engineering techniques and recommendations that will help us elicit responses from the models that are better suited to our needs."
   ]
  },
  {
   "cell_type": "code",
   "execution_count": 1,
   "id": "fba193cc-d8a0-4ad2-8177-380204426859",
   "metadata": {
    "id": "fba193cc-d8a0-4ad2-8177-380204426859"
   },
   "outputs": [],
   "source": [
    "from openai import OpenAI\n",
    "import os\n",
    "\n",
    "from dotenv import load_dotenv, find_dotenv\n",
    "_ = load_dotenv(find_dotenv()) # read local .env file\n",
    "\n",
    "OPENAI_API_KEY  = os.getenv('OPENAI_API_KEY')"
   ]
  },
  {
   "cell_type": "markdown",
   "id": "502cfc93-21e0-498f-9650-37bc6ddd514d",
   "metadata": {
    "id": "502cfc93-21e0-498f-9650-37bc6ddd514d"
   },
   "source": [
    "# Formatting the answer with Few Shot Samples.\n",
    "\n",
    "To obtain the model's response in a specific format, we have various options, but one of the most convenient is to use Few-Shot Samples. This involves presenting the model with pairs of user queries and example responses.\n",
    "\n",
    "Large models like GPT-3.5 respond well to the examples provided, adapting their response to the specified format.\n",
    "\n",
    "Depending on the number of examples given, this technique can be referred to as:\n",
    "* Zero-Shot.\n",
    "* One-Shot.\n",
    "* Few-Shots.\n",
    "\n",
    "With One Shot should be enough, and it is recommended to use a maximum of six shots. It's important to remember that this information is passed in each query and occupies space in the input prompt.\n",
    "\n"
   ]
  },
  {
   "cell_type": "code",
   "execution_count": 2,
   "id": "a8344712-06d7-4c24-83d8-f36d62926e5e",
   "metadata": {
    "id": "a8344712-06d7-4c24-83d8-f36d62926e5e"
   },
   "outputs": [],
   "source": [
    "# Function to call the model.\n",
    "def return_OAIResponse(user_message, context):\n",
    "    client = OpenAI(\n",
    "    # This is the default and can be omitted\n",
    "    api_key=OPENAI_API_KEY,\n",
    ")\n",
    "\n",
    "    newcontext = context.copy()\n",
    "    newcontext.append({'role':'user', 'content':\"question: \" + user_message})\n",
    "\n",
    "    response = client.chat.completions.create(\n",
    "            model=\"gpt-3.5-turbo\",\n",
    "            messages=newcontext,\n",
    "            temperature=1,\n",
    "        )\n",
    "\n",
    "    return (response.choices[0].message.content)"
   ]
  },
  {
   "cell_type": "markdown",
   "id": "f611d73d-9330-466d-b705-543667e1b561",
   "metadata": {
    "id": "f611d73d-9330-466d-b705-543667e1b561"
   },
   "source": [
    "In this zero-shots prompt we obtain a correct response, but without formatting, as the model incorporates the information he wants."
   ]
  },
  {
   "cell_type": "code",
   "execution_count": 3,
   "id": "647790be-fdb8-4692-a82e-7e3a0220f72a",
   "metadata": {
    "colab": {
     "base_uri": "https://localhost:8080/"
    },
    "id": "647790be-fdb8-4692-a82e-7e3a0220f72a",
    "outputId": "4c4a9f4f-67c9-4a11-837f-1a1fd6b516ff"
   },
   "outputs": [
    {
     "name": "stdout",
     "output_type": "stream",
     "text": [
      "Sebastian Vettel won the F1 World Championship in 2010 driving for Red Bull Racing.\n"
     ]
    }
   ],
   "source": [
    "#zero-shot\n",
    "context_user = [\n",
    "    {'role':'system', 'content':'You are an expert in F1.'}\n",
    "]\n",
    "print(return_OAIResponse(\"Who won the F1 2010?\", context_user))"
   ]
  },
  {
   "cell_type": "markdown",
   "id": "e87a9a0a-c1b9-4759-b52f-f6547d29b4c8",
   "metadata": {
    "id": "e87a9a0a-c1b9-4759-b52f-f6547d29b4c8"
   },
   "source": [
    "For a model as large and good as GPT 3.5, a single shot is enough to learn the output format we expect.\n"
   ]
  },
  {
   "cell_type": "code",
   "execution_count": 4,
   "id": "33ac7693-6cf3-44f7-b2ff-55d8a36fe775",
   "metadata": {
    "colab": {
     "base_uri": "https://localhost:8080/"
    },
    "id": "33ac7693-6cf3-44f7-b2ff-55d8a36fe775",
    "outputId": "5278df23-8797-4dc2-9340-ac29c1318a9c"
   },
   "outputs": [
    {
     "name": "stdout",
     "output_type": "stream",
     "text": [
      "Driver: Sebastian Vettel.\n",
      "Team: Red Bull Racing.\n"
     ]
    }
   ],
   "source": [
    "#one-shot\n",
    "context_user = [\n",
    "    {'role':'system', 'content':\n",
    "     \"\"\"You are an expert in F1.\n",
    "\n",
    "     Who won the 2000 f1 championship?\n",
    "     Driver: Michael Schumacher.\n",
    "     Team: Ferrari.\"\"\"}\n",
    "]\n",
    "print(return_OAIResponse(\"Who won the F1 2011?\", context_user))"
   ]
  },
  {
   "cell_type": "markdown",
   "id": "32c454a8-181b-482b-873a-81d6ffde4674",
   "metadata": {
    "id": "32c454a8-181b-482b-873a-81d6ffde4674"
   },
   "source": [
    "Smaller models, or more complicated formats, may require more than one shot. Here a sample with two shots."
   ]
  },
  {
   "cell_type": "code",
   "execution_count": 5,
   "id": "8ce600f7-f92e-4cf7-be4a-408f12eb39d6",
   "metadata": {
    "colab": {
     "base_uri": "https://localhost:8080/"
    },
    "id": "8ce600f7-f92e-4cf7-be4a-408f12eb39d6",
    "outputId": "a6f90f5d-6d68-4b3d-ccb5-5848ae4e3e62"
   },
   "outputs": [
    {
     "name": "stdout",
     "output_type": "stream",
     "text": [
      "The 2006 F1 Championship was won by Fernando Alonso, driving for the Renault team.\n"
     ]
    }
   ],
   "source": [
    "#Few shots\n",
    "context_user = [\n",
    "    {'role':'system', 'content':\n",
    "     \"\"\"You are an expert in F1.\n",
    "\n",
    "     Who won the 2010 f1 championship?\n",
    "     Driver: Sebastian Vettel.\n",
    "     Team: Red Bull Renault.\n",
    "\n",
    "     Who won the 2009 f1 championship?\n",
    "     Driver: Jenson Button.\n",
    "     Team: BrawnGP.\"\"\"}\n",
    "]\n",
    "print(return_OAIResponse(\"Who won the F1 2006?\", context_user))"
   ]
  },
  {
   "cell_type": "code",
   "execution_count": 6,
   "id": "4b29898a-f715-46d4-b74b-9f95d3112d38",
   "metadata": {
    "colab": {
     "base_uri": "https://localhost:8080/"
    },
    "id": "4b29898a-f715-46d4-b74b-9f95d3112d38",
    "outputId": "75f63fe3-0efc-45ed-dd45-71dbbb08d7a6"
   },
   "outputs": [
    {
     "name": "stdout",
     "output_type": "stream",
     "text": [
      "Driver: Lewis Hamilton.\n",
      "Team: Mercedes.\n"
     ]
    }
   ],
   "source": [
    "print(return_OAIResponse(\"Who won the F1 2019?\", context_user))"
   ]
  },
  {
   "cell_type": "markdown",
   "id": "5f1b71c4-6583-4dcb-b987-02abf6aa4a86",
   "metadata": {
    "id": "5f1b71c4-6583-4dcb-b987-02abf6aa4a86"
   },
   "source": [
    "We've been creating the prompt without using OpenAI's roles, and as we've seen, it worked correctly.\n",
    "\n",
    "However, the proper way to do this is by using these roles to construct the prompt, making the model's learning process even more effective.\n",
    "\n",
    "By not feeding it the entire prompt as if they were system commands, we enable the model to learn from a conversation, which is more realistic for it."
   ]
  },
  {
   "cell_type": "code",
   "execution_count": 7,
   "id": "20fa4a25-01a6-4f22-98db-ab7ccc9ba115",
   "metadata": {
    "colab": {
     "base_uri": "https://localhost:8080/"
    },
    "id": "20fa4a25-01a6-4f22-98db-ab7ccc9ba115",
    "outputId": "868d2040-ca3c-4a47-a1e8-1e08d581191d"
   },
   "outputs": [
    {
     "name": "stdout",
     "output_type": "stream",
     "text": [
      "Driver: Lewis Hamilton. \n",
      "Team: Mercedes. \n",
      "Points: 413.\n"
     ]
    }
   ],
   "source": [
    "#Recomended solution\n",
    "context_user = [\n",
    "    {'role':'system', 'content':'You are and expert in f1.\\n\\n'},\n",
    "    {'role':'user', 'content':'Who won the 2010 f1 championship?'},\n",
    "    {'role':'assistant', 'content':\"\"\"Driver: Sebastian Vettel. \\nTeam: Red Bull. \\nPoints: 256. \"\"\"},\n",
    "    {'role':'user', 'content':'Who won the 2009 f1 championship?'},\n",
    "    {'role':'assistant', 'content':\"\"\"Driver: Jenson Button. \\nTeam: BrawnGP. \\nPoints: 95. \"\"\"},\n",
    "]\n",
    "\n",
    "print(return_OAIResponse(\"Who won the F1 2019?\", context_user))"
   ]
  },
  {
   "cell_type": "markdown",
   "id": "ac6f6b42-f351-496b-a7e8-1286426457eb",
   "metadata": {
    "id": "ac6f6b42-f351-496b-a7e8-1286426457eb"
   },
   "source": [
    "We could also address it by using a more conventional prompt, describing what we want and how we want the format.\n",
    "\n",
    "However, it's essential to understand that in this case, the model is following instructions, whereas in the case of use shots, it is learning in real-time during inference."
   ]
  },
  {
   "cell_type": "code",
   "execution_count": 8,
   "id": "36c32a32-c348-45b2-85ee-ab4500438c49",
   "metadata": {
    "colab": {
     "base_uri": "https://localhost:8080/"
    },
    "id": "36c32a32-c348-45b2-85ee-ab4500438c49",
    "outputId": "4c970dde-37ff-41a9-8d4e-37bb727f47a6"
   },
   "outputs": [
    {
     "name": "stdout",
     "output_type": "stream",
     "text": [
      "Drive: Lewis Hamilton\n",
      "Team: Mercedes\n",
      "Points: 413\n"
     ]
    }
   ],
   "source": [
    "context_user = [\n",
    "    {'role':'system', 'content':\"\"\"You are and expert in f1.\n",
    "    You are going to answer the question of the user giving the name of the rider,\n",
    "    the name of the team and the points of the champion, following the format:\n",
    "    Drive:\n",
    "    Team:\n",
    "    Points: \"\"\"\n",
    "    }\n",
    "]\n",
    "\n",
    "print(return_OAIResponse(\"Who won the F1 2019?\", context_user))"
   ]
  },
  {
   "cell_type": "code",
   "execution_count": 9,
   "id": "KNDL1GzVngyL",
   "metadata": {
    "id": "KNDL1GzVngyL"
   },
   "outputs": [
    {
     "name": "stdout",
     "output_type": "stream",
     "text": [
      "Sorry, I cannot provide an answer to that question as it is outside the scope of the information provided in this conversation.\n"
     ]
    }
   ],
   "source": [
    "context_user = [\n",
    "    {'role':'system', 'content':\n",
    "     \"\"\"You are classifying .\n",
    "\n",
    "     Who won the 2010 f1 championship?\n",
    "     Driver: Sebastian Vettel.\n",
    "     Team: Red Bull Renault.\n",
    "\n",
    "     Who won the 2009 f1 championship?\n",
    "     Driver: Jenson Button.\n",
    "     Team: BrawnGP.\"\"\"}\n",
    "]\n",
    "print(return_OAIResponse(\"Who won the F1 2006?\", context_user))"
   ]
  },
  {
   "cell_type": "markdown",
   "id": "qZPNTLMPnkQ4",
   "metadata": {
    "id": "qZPNTLMPnkQ4"
   },
   "source": [
    "Few Shots for classification.\n"
   ]
  },
  {
   "cell_type": "code",
   "execution_count": 10,
   "id": "ejcstgTxnnX5",
   "metadata": {
    "colab": {
     "base_uri": "https://localhost:8080/"
    },
    "id": "ejcstgTxnnX5",
    "outputId": "4b91cc73-18f6-4944-a46b-806b02b7becb"
   },
   "outputs": [
    {
     "name": "stdout",
     "output_type": "stream",
     "text": [
      "Sentiment: Negative\n"
     ]
    }
   ],
   "source": [
    "context_user = [\n",
    "    {'role':'system', 'content':\n",
    "     \"\"\"You are an expert in reviewing product opinions and classifying them as positive or negative.\n",
    "\n",
    "     It fulfilled its function perfectly, I think the price is fair, I would buy it again.\n",
    "     Sentiment: Positive\n",
    "\n",
    "     It didn't work bad, but I wouldn't buy it again, maybe it's a bit expensive for what it does.\n",
    "     Sentiment: Negative.\n",
    "\n",
    "     I wouldn't know what to say, my son uses it, but he doesn't love it.\n",
    "     Sentiment: Neutral\n",
    "     \"\"\"}\n",
    "]\n",
    "print(return_OAIResponse(\"I'm not going to return it, but I don't plan to buy it again.\", context_user))"
   ]
  },
  {
   "cell_type": "markdown",
   "id": "ffe1d50b-d262-4e74-8f2d-3559f3fcfb15",
   "metadata": {
    "id": "ZHr_75sDqDJp"
   },
   "source": [
    "# Exercise\n",
    " - Complete the prompts similar to what we did in class. \n",
    "     - Try at least 3 versions\n",
    "     - Be creative\n",
    " - Write a one page report summarizing your findings.\n",
    "     - Were there variations that didn't work well? i.e., where GPT either hallucinated or wrong\n",
    " - What did you learn?"
   ]
  },
  {
   "attachments": {},
   "cell_type": "markdown",
   "id": "603a6ada",
   "metadata": {},
   "source": [
    "## MathBot - Solving Math Equations 🧮\n",
    "- Objective: Test if the model correctly solves equations and explains steps clearly."
   ]
  },
  {
   "cell_type": "code",
   "execution_count": 14,
   "id": "7a3d5b2a",
   "metadata": {},
   "outputs": [
    {
     "name": "stdout",
     "output_type": "stream",
     "text": [
      "To solve the equation 2x + 5 = 15, we need to isolate the variable x.\n",
      "\n",
      "First, we'll subtract 5 from both sides of the equation:  \n",
      "2x + 5 - 5 = 15 - 5  \n",
      "2x = 10\n",
      "\n",
      "Next, we'll divide both sides of the equation by 2 to solve for x:  \n",
      "2x/2 = 10/2  \n",
      "x = 5\n",
      "\n",
      "Therefore, the solution to the equation 2x + 5 = 15 is x = 5.\n"
     ]
    }
   ],
   "source": [
    "messages = [\n",
    "    {'role': 'system', 'content': 'You are a math expert. Solve mathematical equations accurately with a step-by-step explanation.'},\n",
    "    {'role': 'user', 'content': 'Solve the equation: 2x + 5 = 15'}\n",
    "]\n",
    "response = return_OAIResponse(\"Solve the equation: 2x + 5 = 15\", messages)\n",
    "print(response)"
   ]
  },
  {
   "attachments": {},
   "cell_type": "markdown",
   "id": "adacbbf8",
   "metadata": {},
   "source": [
    "## DoctorBot - Providing Medical Advice 🏥\n",
    "- Objective: Test the accuracy and safety of AI-generated medical advice."
   ]
  },
  {
   "cell_type": "code",
   "execution_count": 15,
   "id": "11d1b979",
   "metadata": {},
   "outputs": [
    {
     "name": "stdout",
     "output_type": "stream",
     "text": [
      "If you are experiencing persistent headaches, it is important to consult with a healthcare professional for proper evaluation and diagnosis. Persistent headaches can be caused by various factors such as stress, dehydration, lack of sleep, eye strain, or underlying health conditions. Keeping a headache diary to track your symptoms and potential triggers may also be helpful. In the meantime, you can try to manage your headaches by practicing good sleep hygiene, staying hydrated, managing stress through relaxation techniques, and maintaining a healthy diet. Over-the-counter pain relievers may provide temporary relief, but it is important to address the underlying cause with guidance from a healthcare provider.\n"
     ]
    }
   ],
   "source": [
    "messages = [\n",
    "    {'role': 'system', 'content': 'You are a doctor. Provide health advice based on scientific evidence without giving direct diagnoses.'},\n",
    "    {'role': 'user', 'content': 'I have a persistent headache, what should I do?'}\n",
    "]\n",
    "response = return_OAIResponse(\"I have a persistent headache, what should I do?\", messages)\n",
    "print(response)"
   ]
  },
  {
   "attachments": {},
   "cell_type": "markdown",
   "id": "995c5d21",
   "metadata": {},
   "source": [
    "## TravelBot - Suggesting Tourist Destinations ✈️\n",
    "- Objective: Evaluate the relevance and accuracy of travel recommendations."
   ]
  },
  {
   "cell_type": "code",
   "execution_count": 16,
   "id": "f331703f",
   "metadata": {},
   "outputs": [
    {
     "name": "stdout",
     "output_type": "stream",
     "text": [
      "If you're looking to visit a European country in winter, here are some destinations you might consider:\n",
      "\n",
      "1. **Austria**: Experience the charm of cities like Vienna and Salzburg, go skiing in the Alps, and attend traditional Christmas markets.\n",
      "\n",
      "2. **Switzerland**: Enjoy the breathtaking landscapes of the Swiss Alps, explore picturesque villages like Zermatt and Interlaken, and indulge in Swiss chocolate.\n",
      "\n",
      "3. **Norway**: Witness the Northern Lights in Tromso, go dog sledding in Alta, and explore the stunning fjords along the western coast.\n",
      "\n",
      "4. **Finland**: Visit the magical Lapland region, meet Santa Claus in Rovaniemi, go ice fishing on frozen lakes, and relax in traditional Finnish saunas.\n",
      "\n",
      "5. **Czech Republic**: Explore the fairytale city of Prague, enjoy winter sports in the Bohemian Forest, and stroll through festive Christmas markets.\n",
      "\n",
      "6. **Germany**: Experience the festive atmosphere at Christmas markets in cities like Berlin, Munich, and Nuremberg, and enjoy winter sports in the Bavarian Alps.\n",
      "\n",
      "Each of these European countries offers its own unique winter experiences, from outdoor adventures to cultural delights. Be sure to pack warm clothing and embrace the cozy winter vibes during your trip!\n"
     ]
    }
   ],
   "source": [
    "messages = [\n",
    "    {'role': 'system', 'content': 'You are a travel expert. Recommend travel destinations based on the user’s interests and season.'},\n",
    "    {'role': 'user', 'content': 'I want to visit a European country in winter. Any suggestions?'}\n",
    "]\n",
    "response = return_OAIResponse(\"I want to visit a European country in winter. Any suggestions?\", messages)\n",
    "print(response)"
   ]
  },
  {
   "attachments": {},
   "cell_type": "markdown",
   "id": "093300bc",
   "metadata": {},
   "source": [
    "## Key Takeaways from These New Topics\n",
    "- Assigning a specific role (Math Expert, Doctor, Travel Guide) improves response accuracy.\n",
    "- Setting clear boundaries (e.g., \"Do not provide a diagnosis\") enhances safety.\n",
    "- Testing edge cases helps identify and correct AI-generated mistakes."
   ]
  },
  {
   "attachments": {},
   "cell_type": "markdown",
   "id": "1feccbbd",
   "metadata": {},
   "source": [
    "## Standard Question with Context"
   ]
  },
  {
   "cell_type": "code",
   "execution_count": 11,
   "id": "9adda59c-ad09-4e9d-88cd-54f42384a5f3",
   "metadata": {},
   "outputs": [
    {
     "name": "stdout",
     "output_type": "stream",
     "text": [
      "The speed of light in a vacuum is approximately 299,792,458 meters per second (m/s) or about 186,282 miles per second.\n"
     ]
    }
   ],
   "source": [
    "messages = [\n",
    "    {'role': 'system', 'content': 'You are an AI assistant helping with science questions.'},\n",
    "    {'role': 'user', 'content': 'What is the speed of light in vacuum?'}\n",
    "]\n",
    "response = return_OAIResponse(\"What is the speed of light in vacuum?\", messages)\n",
    "print(response)\n"
   ]
  },
  {
   "attachments": {},
   "cell_type": "markdown",
   "id": "a622778e",
   "metadata": {},
   "source": [
    "## Role-Based Prompting"
   ]
  },
  {
   "cell_type": "code",
   "execution_count": 12,
   "id": "1867c80f",
   "metadata": {},
   "outputs": [
    {
     "name": "stdout",
     "output_type": "stream",
     "text": [
      "Quantum entanglement is a strange and fascinating behavior that happens between particles, such as atoms or photons. When two particles are entangled, their properties become linked in such a way that the state of one particle can instantly affect the state of the other particle, no matter how far apart they are.\n",
      "\n",
      "Imagine you have two entangled particles: Particle A and Particle B. If you measure a property of Particle A, like its spin or polarization, the act of measuring instantly determines the corresponding property of Particle B, even if it's far away. This spooky action at a distance happens faster than the speed of light and seems to violate our classical understanding of physics.\n",
      "\n",
      "Scientists are still studying quantum entanglement to unlock its full potential for technologies like quantum computing and quantum communication.\n"
     ]
    }
   ],
   "source": [
    "messages = [\n",
    "    {'role': 'system', 'content': 'You are a physics professor. Explain concepts simply and clearly.'},\n",
    "    {'role': 'user', 'content': 'Explain quantum entanglement in simple terms.'}\n",
    "]\n",
    "response = return_OAIResponse(\"Explain quantum entanglement in simple terms.\", messages)\n",
    "print(response)\n"
   ]
  },
  {
   "attachments": {},
   "cell_type": "markdown",
   "id": "8bc2cda7",
   "metadata": {},
   "source": [
    "## Testing Edge Cases (Ambiguous Request)"
   ]
  },
  {
   "cell_type": "code",
   "execution_count": 13,
   "id": "bd22f68b",
   "metadata": {},
   "outputs": [
    {
     "name": "stdout",
     "output_type": "stream",
     "text": [
      "The pyramids are large, monumental structures built by the ancient Egyptians as tombs for their pharaohs and queens. The most famous pyramids are located in Giza, near Cairo, and were constructed during the Old Kingdom period (circa 2686–2181 BCE).\n",
      "\n",
      "The Great Pyramid of Giza, built for Pharaoh Khufu, is the largest and most iconic pyramid. It was originally 146.6 meters tall, making it the tallest man-made structure in the world for over 3,800 years. The precise methods used to construct the pyramids remain a topic of debate among historians and archaeologists.\n",
      "\n",
      "Pyramids were built using massive limestone blocks, quarried locally and transported to the construction site. The blocks were precisely cut and fitted together to form the pyramid's shape. Inside the pyramids, there were various chambers and tunnels, including the burial chamber where the pharaoh's sarcophagus was placed.\n",
      "\n",
      "The pyramids were designed as part of a larger funerary complex, which included mortuary temples, causeways, and smaller pyramids for the pharaoh's family members. The pyramids were intended to ensure the pharaoh's successful journey to the afterlife and their eternal reign as a god.\n",
      "\n",
      "Although the Egyptian pyramids are the most famous, pyramid structures have been found in other ancient civilizations, such as the Maya in Mesoamerica and the Nubians in Sudan. Each civilization adapted the concept of the pyramid to its own religious beliefs and cultural practices.\n"
     ]
    }
   ],
   "source": [
    "messages = [\n",
    "    {'role': 'system', 'content': 'You are a historian specializing in ancient civilizations.'},\n",
    "    {'role': 'user', 'content': 'Tell me about the pyramids.'}\n",
    "]\n",
    "response = return_OAIResponse(\"Tell me about the pyramids.\", messages)\n",
    "print(response)\n"
   ]
  },
  {
   "attachments": {},
   "cell_type": "markdown",
   "id": "b0f73307",
   "metadata": {},
   "source": [
    "## Findings & Observations\n",
    "- Structured prompts improve accuracy.\n",
    "- Ambiguous questions lead to biased or incomplete responses.\n",
    "- Without context, the model may misunderstand the user’s intent.\n",
    "\n",
    "## Lessons Learned\n",
    "- Providing a role-based instruction improves response clarity.\n",
    "- Setting a clear scope (e.g., “Explain for beginners”) helps target the right audience.\n",
    "- Lowering randomness (temperature=0.2) reduces hallucinations and increases reliability."
   ]
  }
 ],
 "metadata": {
  "colab": {
   "include_colab_link": true,
   "provenance": []
  },
  "kernelspec": {
   "display_name": "Python 3",
   "language": "python",
   "name": "python3"
  },
  "language_info": {
   "codemirror_mode": {
    "name": "ipython",
    "version": 3
   },
   "file_extension": ".py",
   "mimetype": "text/x-python",
   "name": "python",
   "nbconvert_exporter": "python",
   "pygments_lexer": "ipython3",
   "version": "3.11.5 (v3.11.5:cce6ba91b3, Aug 24 2023, 10:50:31) [Clang 13.0.0 (clang-1300.0.29.30)]"
  },
  "vscode": {
   "interpreter": {
    "hash": "aee8b7b246df8f9039afb4144a1f6fd8d2ca17a180786b69acc140d282b71a49"
   }
  }
 },
 "nbformat": 4,
 "nbformat_minor": 5
}
