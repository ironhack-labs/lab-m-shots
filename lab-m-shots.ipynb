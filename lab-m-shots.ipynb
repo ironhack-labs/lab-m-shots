{
 "cells": [
  {
   "cell_type": "markdown",
   "id": "24b19fff-8f42-4e9f-a73e-00cff106805a",
   "metadata": {},
   "source": [
    "# M-Shots Learning"
   ]
  },
  {
   "cell_type": "markdown",
   "id": "34723a72-1601-4685-a0ba-bff544425d48",
   "metadata": {
    "id": "34723a72-1601-4685-a0ba-bff544425d48"
   },
   "source": [
    "In this notebook, we'll explore small prompt engineering techniques and recommendations that will help us elicit responses from the models that are better suited to our needs."
   ]
  },
  {
   "cell_type": "code",
   "execution_count": 1,
   "id": "fba193cc-d8a0-4ad2-8177-380204426859",
   "metadata": {
    "id": "fba193cc-d8a0-4ad2-8177-380204426859"
   },
   "outputs": [],
   "source": [
    "from openai import OpenAI\n",
    "import os\n",
    "\n",
    "from dotenv import load_dotenv, find_dotenv\n",
    "_ = load_dotenv(find_dotenv()) # read local .env file\n",
    "\n",
    "OPENAI_API_KEY  = os.getenv('OPENAI_API_KEY')"
   ]
  },
  {
   "cell_type": "markdown",
   "id": "502cfc93-21e0-498f-9650-37bc6ddd514d",
   "metadata": {
    "id": "502cfc93-21e0-498f-9650-37bc6ddd514d"
   },
   "source": [
    "# Formatting the answer with Few Shot Samples.\n",
    "\n",
    "To obtain the model's response in a specific format, we have various options, but one of the most convenient is to use Few-Shot Samples. This involves presenting the model with pairs of user queries and example responses.\n",
    "\n",
    "Large models like GPT-3.5 respond well to the examples provided, adapting their response to the specified format.\n",
    "\n",
    "Depending on the number of examples given, this technique can be referred to as:\n",
    "* Zero-Shot.\n",
    "* One-Shot.\n",
    "* Few-Shots.\n",
    "\n",
    "With One Shot should be enough, and it is recommended to use a maximum of six shots. It's important to remember that this information is passed in each query and occupies space in the input prompt.\n",
    "\n"
   ]
  },
  {
   "cell_type": "code",
   "execution_count": 2,
   "id": "a8344712-06d7-4c24-83d8-f36d62926e5e",
   "metadata": {
    "id": "a8344712-06d7-4c24-83d8-f36d62926e5e"
   },
   "outputs": [],
   "source": [
    "# Function to call the model.\n",
    "def return_OAIResponse(user_message, context):\n",
    "    client = OpenAI(\n",
    "    # This is the default and can be omitted\n",
    "    api_key=OPENAI_API_KEY,\n",
    ")\n",
    "\n",
    "    newcontext = context.copy()\n",
    "    newcontext.append({'role':'user', 'content':\"question: \" + user_message})\n",
    "\n",
    "    response = client.chat.completions.create(\n",
    "            model=\"gpt-3.5-turbo\",\n",
    "            messages=newcontext,\n",
    "            temperature=1,\n",
    "        )\n",
    "\n",
    "    return (response.choices[0].message.content)"
   ]
  },
  {
   "cell_type": "markdown",
   "id": "f611d73d-9330-466d-b705-543667e1b561",
   "metadata": {
    "id": "f611d73d-9330-466d-b705-543667e1b561"
   },
   "source": [
    "In this zero-shots prompt we obtain a correct response, but without formatting, as the model incorporates the information he wants."
   ]
  },
  {
   "cell_type": "code",
   "execution_count": 15,
   "id": "647790be-fdb8-4692-a82e-7e3a0220f72a",
   "metadata": {
    "colab": {
     "base_uri": "https://localhost:8080/"
    },
    "id": "647790be-fdb8-4692-a82e-7e3a0220f72a",
    "outputId": "4c4a9f4f-67c9-4a11-837f-1a1fd6b516ff"
   },
   "outputs": [
    {
     "name": "stdout",
     "output_type": "stream",
     "text": [
      "El EMDR (Eye Movement Desensitization and Reprocessing) es una terapia utilizada principalmente para tratar el trastorno de estrés postraumático (TEPT) y otras condiciones relacionadas con traumas emocionales. Fue desarrollada por la psicóloga Francine Shapiro en la década de 1980. El EMDR se basa en la idea de que los problemas emocionales están vinculados a memorias traumáticas mal procesadas, y utiliza movimientos oculares, pulsos táctiles o sonidos bilaterales para ayudar al cerebro a procesar esas memorias de una manera más adaptativa. La terapia EMDR suele ser de corta duración en comparación con otras terapias tradicionales, y busca ayudar a los individuos a superar los síntomas de estrés postraumático y otros problemas emocionales derivados de eventos traumáticos.\n"
     ]
    }
   ],
   "source": [
    "#zero-shot\n",
    "context_user = [\n",
    "    {'role':'system', 'content':'You are an expert in Psichology.'}\n",
    "]\n",
    "print(return_OAIResponse(\"Que es el EMDR\", context_user))"
   ]
  },
  {
   "cell_type": "markdown",
   "id": "e87a9a0a-c1b9-4759-b52f-f6547d29b4c8",
   "metadata": {
    "id": "e87a9a0a-c1b9-4759-b52f-f6547d29b4c8"
   },
   "source": [
    "For a model as large and good as GPT 3.5, a single shot is enough to learn the output format we expect.\n"
   ]
  },
  {
   "cell_type": "code",
   "execution_count": 16,
   "id": "33ac7693-6cf3-44f7-b2ff-55d8a36fe775",
   "metadata": {
    "colab": {
     "base_uri": "https://localhost:8080/"
    },
    "id": "33ac7693-6cf3-44f7-b2ff-55d8a36fe775",
    "outputId": "5278df23-8797-4dc2-9340-ac29c1318a9c"
   },
   "outputs": [
    {
     "name": "stdout",
     "output_type": "stream",
     "text": [
      "El apego es un vínculo emocional que se establece entre dos personas, generalmente entre un bebé y su cuidador principal, pero también puede existir entre adultos. Este vínculo se caracteriza por la necesidad de cercanía, protección, seguridad y afecto. El apego se forma a través de interacciones repetidas y significativas entre las personas, y puede influir en la forma en que una persona se relaciona con los demás en el futuro.\n"
     ]
    }
   ],
   "source": [
    "#one-shot\n",
    "context_user = [\n",
    "    {'role':'system', 'content':\n",
    "     \"\"\"You are an expert in Psichology.\n",
    "\n",
    "    Que es el apego\"\"\"}\n",
    "]\n",
    "print(return_OAIResponse(\"que es el apego?\", context_user))"
   ]
  },
  {
   "cell_type": "markdown",
   "id": "32c454a8-181b-482b-873a-81d6ffde4674",
   "metadata": {
    "id": "32c454a8-181b-482b-873a-81d6ffde4674"
   },
   "source": [
    "Smaller models, or more complicated formats, may require more than one shot. Here a sample with two shots."
   ]
  },
  {
   "cell_type": "code",
   "execution_count": 17,
   "id": "8ce600f7-f92e-4cf7-be4a-408f12eb39d6",
   "metadata": {
    "colab": {
     "base_uri": "https://localhost:8080/"
    },
    "id": "8ce600f7-f92e-4cf7-be4a-408f12eb39d6",
    "outputId": "a6f90f5d-6d68-4b3d-ccb5-5848ae4e3e62"
   },
   "outputs": [
    {
     "name": "stdout",
     "output_type": "stream",
     "text": [
      "Los tipos de apego son:\n",
      "\n",
      "1. Apego seguro: Las personas con este tipo de apego suelen sentirse cómodas con la intimidad y la cercanía en sus relaciones, confían en los demás y en sí mismas, y buscan apoyo emocional cuando lo necesitan.\n",
      "\n",
      "2. Apego ansioso-ambivalente: Las personas con este tipo de apego suelen preocuparse por la falta de cercanía en sus relaciones, tienen miedo al abandono y pueden ser emocionalmente dependientes de los demás.\n",
      "\n",
      "3. Apego evitativo: Las personas con este tipo de apego tienden a ser reacias a la intimidad emocional, les cuesta confiar en los demás y suelen preferir la independencia y la auto suficiencia.\n",
      "\n",
      "4. Apego desorganizado o desorientado: Las personas con este tipo de apego muestran patrones de comportamiento contradictorios y confusos en sus relaciones, a menudo experimentan miedo, confusión y ambivalencia en sus interacciones con los demás.\n"
     ]
    }
   ],
   "source": [
    "#Few shots\n",
    "context_user = [\n",
    "    {'role':'system', 'content':\n",
    "     \"\"\"You are an expert in Psichology.\n",
    "\n",
    "     Que es el apego\n",
    "\n",
    "     cuales son los tipos de apego?\"\"\"}\n",
    "]\n",
    "print(return_OAIResponse(\"nombra los tipos de apego\", context_user))"
   ]
  },
  {
   "cell_type": "code",
   "execution_count": 18,
   "id": "4b29898a-f715-46d4-b74b-9f95d3112d38",
   "metadata": {
    "colab": {
     "base_uri": "https://localhost:8080/"
    },
    "id": "4b29898a-f715-46d4-b74b-9f95d3112d38",
    "outputId": "75f63fe3-0efc-45ed-dd45-71dbbb08d7a6"
   },
   "outputs": [
    {
     "name": "stdout",
     "output_type": "stream",
     "text": [
      "El narcisismo es un trastorno de la personalidad caracterizado por una excesiva preocupación por uno mismo, falta de empatía hacia los demás, necesidad constante de admiración y una percepción exagerada de su propio talento y éxito. Las personas con narcisismo tienden a actuar de manera arrogante, manipuladora y pueden tener dificultades en las relaciones interpersonales debido a su falta de consideración por los sentimientos de los demás. Este trastorno puede tener un impacto significativo en la vida de la persona que lo padece, así como en las personas que interactúan con ellos. Es importante buscar ayuda profesional si se sospecha que alguien pueda tener narcisismo para abordar adecuadamente sus causas y consecuencias.\n"
     ]
    }
   ],
   "source": [
    "print(return_OAIResponse(\"que es el narcisismo?\", context_user))"
   ]
  },
  {
   "cell_type": "markdown",
   "id": "5f1b71c4-6583-4dcb-b987-02abf6aa4a86",
   "metadata": {
    "id": "5f1b71c4-6583-4dcb-b987-02abf6aa4a86"
   },
   "source": [
    "We've been creating the prompt without using OpenAI's roles, and as we've seen, it worked correctly.\n",
    "\n",
    "However, the proper way to do this is by using these roles to construct the prompt, making the model's learning process even more effective.\n",
    "\n",
    "By not feeding it the entire prompt as if they were system commands, we enable the model to learn from a conversation, which is more realistic for it."
   ]
  },
  {
   "cell_type": "code",
   "execution_count": 19,
   "id": "20fa4a25-01a6-4f22-98db-ab7ccc9ba115",
   "metadata": {
    "colab": {
     "base_uri": "https://localhost:8080/"
    },
    "id": "20fa4a25-01a6-4f22-98db-ab7ccc9ba115",
    "outputId": "868d2040-ca3c-4a47-a1e8-1e08d581191d"
   },
   "outputs": [
    {
     "name": "stdout",
     "output_type": "stream",
     "text": [
      "Los tipos de apego son:\n",
      "\n",
      "1. Apego seguro\n",
      "2. Apego ansioso-ambivalente\n",
      "3. Apego evitativo\n",
      "4. Apego desorganizado o desorientado\n"
     ]
    }
   ],
   "source": [
    "#Recomended solution\n",
    "context_user = [\n",
    "    {'role':'system', 'content':'You are an in Psichology.\\n\\n'},\n",
    "    {'role':'user', 'content':'Que es el apego?'},\n",
    "    {'role':'assistant', 'content':\"\"\"El apego es un vínculo emocional que se establece entre dos personas, generalmente entre un bebé y su cuidador principal, pero también puede existir entre adultos. Este vínculo se caracteriza por la necesidad de cercanía, protección, seguridad y afecto. El apego se forma a través de interacciones repetidas y significativas entre las personas, y puede influir en la forma en que una persona se relaciona con los demás en el futuro.\"\"\"},\n",
    "    {'role':'user', 'content':'nombra los tipos de apego'},\n",
    "    {'role':'assistant', 'content':\"\"\"Los tipos de apego son:\n",
    "\n",
    "1. Apego seguro: Las personas con este tipo de apego suelen sentirse cómodas con la intimidad y la cercanía en sus relaciones, confían en los demás y en sí mismas, y buscan apoyo emocional cuando lo necesitan.\n",
    "\n",
    "2. Apego ansioso-ambivalente: Las personas con este tipo de apego suelen preocuparse por la falta de cercanía en sus relaciones, tienen miedo al abandono y pueden ser emocionalmente dependientes de los demás.\n",
    "\n",
    "3. Apego evitativo: Las personas con este tipo de apego tienden a ser reacias a la intimidad emocional, les cuesta confiar en los demás y suelen preferir la independencia y la auto suficiencia.\n",
    "\n",
    "4. Apego desorganizado o desorientado: Las personas con este tipo de apego muestran patrones de comportamiento contradictorios y confusos en sus relaciones, a menudo experimentan miedo, confusión y ambivalencia en sus interacciones con los demás.\"\"\"},\n",
    "]\n",
    "\n",
    "print(return_OAIResponse(\"Tipos de apego:\", context_user))"
   ]
  },
  {
   "cell_type": "markdown",
   "id": "ac6f6b42-f351-496b-a7e8-1286426457eb",
   "metadata": {
    "id": "ac6f6b42-f351-496b-a7e8-1286426457eb"
   },
   "source": [
    "We could also address it by using a more conventional prompt, describing what we want and how we want the format.\n",
    "\n",
    "However, it's essential to understand that in this case, the model is following instructions, whereas in the case of use shots, it is learning in real-time during inference."
   ]
  },
  {
   "cell_type": "code",
   "execution_count": 20,
   "id": "36c32a32-c348-45b2-85ee-ab4500438c49",
   "metadata": {
    "colab": {
     "base_uri": "https://localhost:8080/"
    },
    "id": "36c32a32-c348-45b2-85ee-ab4500438c49",
    "outputId": "4c970dde-37ff-41a9-8d4e-37bb727f47a6"
   },
   "outputs": [
    {
     "name": "stdout",
     "output_type": "stream",
     "text": [
      "El apego es un vínculo emocional profundo que se forma entre un niño y sus cuidadores principales, generalmente los padres. Este vínculo se desarrolla a través de interacciones repetidas y afectuosas entre el niño y sus cuidadores, creando un sentido de seguridad, confianza y bienestar en el niño.\n",
      "\n",
      "Recomendaciones para fomentar un apego seguro con tu hijo:\n",
      "1. Establecer rutinas y límites claros: Los niños se sienten seguros cuando saben qué esperar y cuáles son las reglas. Mantener rutinas predecibles y establecer límites firmes pero amorosos ayuda a fortalecer el apego.\n",
      "2. Demostrar afecto y atención: Los gestos de cariño, la escucha activa y la disponibilidad emocional son fundamentales para fortalecer el vínculo de apego con tu hijo. Dedica tiempo de calidad a estar presente emocionalmente con tu hijo.\n",
      "3. Fomentar la comunicación y el diálogo: Hablar con tu hijo, escuchar sus emociones, preocupaciones y necesidades, y responder con empatía y comprensión contribuye a fortalecer el apego seguro. La comunicación abierta y respetuosa es clave en la construcción de una relación segura y afectuosa.\n"
     ]
    }
   ],
   "source": [
    "context_user = [\n",
    "    {'role':'system', 'content':\"\"\"You are and expert in Psychology.\n",
    "    You are going to answer the question of the user explaining what apego is and providing 3 recommendations:\n",
    "    Recommendations\"\"\"\n",
    "    }\n",
    "]\n",
    "\n",
    "print(return_OAIResponse(\"Que es el apego?\", context_user))"
   ]
  },
  {
   "cell_type": "code",
   "execution_count": 21,
   "id": "KNDL1GzVngyL",
   "metadata": {
    "id": "KNDL1GzVngyL"
   },
   "outputs": [
    {
     "name": "stdout",
     "output_type": "stream",
     "text": [
      "Existen diferentes tipos de apego según la teoría del apego de John Bowlby y Mary Ainsworth. Los cuatro tipos principales de apego son:\n",
      "\n",
      "1. Apego seguro: Los niños con un apego seguro se sienten cómodos explorando su entorno cuando sus cuidadores están presentes, y buscan consuelo y seguridad en ellos cuando están angustiados. Estos niños confían en sus cuidadores y se sienten seguros en su relación.\n",
      "\n",
      "2. Apego ansioso-ambivalente: Los niños con este tipo de apego suelen mostrar ansiedad y preocupación por la separación de sus cuidadores, pero al mismo tiempo pueden mostrarse ambivalentes respecto a recibir consuelo o rechazarlo.\n",
      "\n",
      "3. Apego evitativo: Los niños con un apego evitativo tienden a evitar buscar consuelo o apoyo de sus cuidadores, prefiriendo explorar el entorno por su cuenta. Pueden parecer independientes, pero en realidad pueden tener dificultades para expresar sus necesidades emocionales.\n",
      "\n",
      "4. Apego desorganizado: Este tipo de apego se caracteriza por una combinación de comportamientos contradictorios y confusos, como acercarse y alejarse de sus cuidadores de manera impredecible. Puede ser resultado de experiencias traumáticas o relaciones inestables con los cuidadores.\n",
      "\n",
      "El apego seguro se considera el más sano y beneficioso para el desarrollo emocional y social de los niños. Un apego seguro proporciona una base segura para explorar el mundo, fomenta la confianza en uno mismo y en los demás, y promueve una mayor estabilidad emocional en la vida adulta. Es importante que los cuidadores respondan de manera sensible y consistente a las necesidades emocionales de los niños para fomentar un apego seguro.\n"
     ]
    }
   ],
   "source": [
    "context_user = [\n",
    "    {'role':'system', 'content':\n",
    "     \"\"\"You are classifying .\n",
    "\n",
    "     Tipos de apego y cual es el mejor de todos.\"\"\"}\n",
    "]\n",
    "print(return_OAIResponse(\"Tipos de apego y cual es el mas sano?\", context_user))"
   ]
  },
  {
   "cell_type": "markdown",
   "id": "qZPNTLMPnkQ4",
   "metadata": {
    "id": "qZPNTLMPnkQ4"
   },
   "source": [
    "Few Shots for classification.\n"
   ]
  },
  {
   "cell_type": "code",
   "execution_count": 22,
   "id": "ejcstgTxnnX5",
   "metadata": {
    "colab": {
     "base_uri": "https://localhost:8080/"
    },
    "id": "ejcstgTxnnX5",
    "outputId": "4b91cc73-18f6-4944-a46b-806b02b7becb"
   },
   "outputs": [
    {
     "name": "stdout",
     "output_type": "stream",
     "text": [
      "Sentiment: Positive\n"
     ]
    }
   ],
   "source": [
    "context_user = [\n",
    "    {'role':'system', 'content':\n",
    "     \"\"\"You are an expert in reviewing product opinions and classifying them as positive or negative.\n",
    "\n",
    "     It fulfilled its function perfectly, I think the price is fair, I would buy it again.\n",
    "     Sentiment: Positive\n",
    "\n",
    "     It didn't work bad, but I wouldn't buy it again, maybe it's a bit expensive for what it does.\n",
    "     Sentiment: Negative.\n",
    "\n",
    "     I wouldn't know what to say, my son uses it, but he doesn't love it.\n",
    "     Sentiment: Neutral\n",
    "     \"\"\"}\n",
    "]\n",
    "print(return_OAIResponse(\"I will keep it for me, because I like it. Im not going to change at anytime\", context_user))"
   ]
  },
  {
   "cell_type": "markdown",
   "id": "ffe1d50b-d262-4e74-8f2d-3559f3fcfb15",
   "metadata": {
    "id": "ZHr_75sDqDJp"
   },
   "source": [
    "# Exercise\n",
    " - Complete the prompts similar to what we did in class. \n",
    "     - Try at least 3 versions\n",
    "     - Be creative\n",
    " - Write a one page report summarizing your findings.\n",
    "     - Were there variations that didn't work well? i.e., where GPT either hallucinated or wrong\n",
    " - What did you learn?"
   ]
  },
  {
   "cell_type": "markdown",
   "id": "85d96e9c",
   "metadata": {},
   "source": [
    "I conducted a prompt engineering exercise using OpenAI 3.5, experimenting with different techniques: zero-shot, one-shot, and few-shot prompts. Initially, I tested the bot with questions about Formula 1, and it answered most of them accurately. For example, when asked about the 2020 and 2019 Formula 1 winners, it provided correct and concrete responses based on its training data. However, when I asked about the 2024 Formula 1 winner, it couldn’t provide an answer, stating that it only had knowledge up to 2021. This demonstrated the importance of understanding the model's training cutoff date when crafting prompts for future-based topics.\n",
    "\n",
    "Later, I switched the prompts to \"You are an expert in psychology,\" and tested it with complex topics such as attachment theory, narcissism, and EMDR. The chatbot consistently delivered detailed and insightful responses, displaying a strong grasp of psychological concepts. Despite switching between zero-shot, one-shot, and few-shot methods, I noticed no significant issues with hallucinations or inaccuracies. The model maintained clear, factual, and focused answers throughout.\n",
    "\n",
    "Interestingly, I didn’t observe any hallucinations during this exercise. Whether answering questions about past events or abstract psychological theories, the chatbot's responses were reliable and concrete. This highlights how well the model can perform when tasked with answering within the bounds of its training knowledge.\n",
    "\n"
   ]
  }
 ],
 "metadata": {
  "colab": {
   "include_colab_link": true,
   "provenance": []
  },
  "kernelspec": {
   "display_name": "base",
   "language": "python",
   "name": "python3"
  },
  "language_info": {
   "codemirror_mode": {
    "name": "ipython",
    "version": 3
   },
   "file_extension": ".py",
   "mimetype": "text/x-python",
   "name": "python",
   "nbconvert_exporter": "python",
   "pygments_lexer": "ipython3",
   "version": "3.12.4"
  }
 },
 "nbformat": 4,
 "nbformat_minor": 5
}
