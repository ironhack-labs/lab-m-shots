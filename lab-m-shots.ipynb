{
 "cells": [
  {
   "cell_type": "markdown",
   "id": "24b19fff-8f42-4e9f-a73e-00cff106805a",
   "metadata": {},
   "source": [
    "# M-Shots Learning"
   ]
  },
  {
   "cell_type": "markdown",
   "id": "34723a72-1601-4685-a0ba-bff544425d48",
   "metadata": {
    "id": "34723a72-1601-4685-a0ba-bff544425d48"
   },
   "source": [
    "In this notebook, we'll explore small prompt engineering techniques and recommendations that will help us elicit responses from the models that are better suited to our needs."
   ]
  },
  {
   "cell_type": "code",
   "execution_count": 1,
   "id": "fba193cc-d8a0-4ad2-8177-380204426859",
   "metadata": {
    "id": "fba193cc-d8a0-4ad2-8177-380204426859"
   },
   "outputs": [],
   "source": [
    "from openai import OpenAI\n",
    "import os\n",
    "\n",
    "from dotenv import load_dotenv, find_dotenv\n",
    "_ = load_dotenv(find_dotenv()) # read local .env file\n",
    "\n",
    "OPENAI_API_KEY  = os.getenv('OPENAI_API_KEY')"
   ]
  },
  {
   "cell_type": "markdown",
   "id": "502cfc93-21e0-498f-9650-37bc6ddd514d",
   "metadata": {
    "id": "502cfc93-21e0-498f-9650-37bc6ddd514d"
   },
   "source": [
    "# Formatting the answer with Few Shot Samples.\n",
    "\n",
    "To obtain the model's response in a specific format, we have various options, but one of the most convenient is to use Few-Shot Samples. This involves presenting the model with pairs of user queries and example responses.\n",
    "\n",
    "Large models like GPT-3.5 respond well to the examples provided, adapting their response to the specified format.\n",
    "\n",
    "Depending on the number of examples given, this technique can be referred to as:\n",
    "* Zero-Shot.\n",
    "* One-Shot.\n",
    "* Few-Shots.\n",
    "\n",
    "With One Shot should be enough, and it is recommended to use a maximum of six shots. It's important to remember that this information is passed in each query and occupies space in the input prompt.\n",
    "\n"
   ]
  },
  {
   "cell_type": "code",
   "execution_count": 57,
   "id": "a8344712-06d7-4c24-83d8-f36d62926e5e",
   "metadata": {
    "id": "a8344712-06d7-4c24-83d8-f36d62926e5e"
   },
   "outputs": [],
   "source": [
    "# Function to call the model.\n",
    "def return_OAIResponse(user_message, context):\n",
    "    client = OpenAI(\n",
    "    # This is the default and can be omitted\n",
    "    api_key=OPENAI_API_KEY,\n",
    ")\n",
    "\n",
    "    newcontext = context.copy()\n",
    "    newcontext.append({'role':'user', 'content':\"question: \" + user_message})\n",
    "\n",
    "    response = client.chat.completions.create(\n",
    "            model=\"gpt-3.5-turbo\",\n",
    "            messages=newcontext,\n",
    "            # top_p= 0.9,\n",
    "            temperature=    1.9       )\n",
    "\n",
    "    return (response.choices[0].message.content)"
   ]
  },
  {
   "cell_type": "markdown",
   "id": "f611d73d-9330-466d-b705-543667e1b561",
   "metadata": {
    "id": "f611d73d-9330-466d-b705-543667e1b561"
   },
   "source": [
    "In this zero-shots prompt we obtain a correct response, but without formatting, as the model incorporates the information he wants."
   ]
  },
  {
   "cell_type": "code",
   "execution_count": 3,
   "id": "647790be-fdb8-4692-a82e-7e3a0220f72a",
   "metadata": {
    "colab": {
     "base_uri": "https://localhost:8080/"
    },
    "id": "647790be-fdb8-4692-a82e-7e3a0220f72a",
    "outputId": "4c4a9f4f-67c9-4a11-837f-1a1fd6b516ff"
   },
   "outputs": [
    {
     "name": "stdout",
     "output_type": "stream",
     "text": [
      "Sebastian Vettel won the 2010 Formula 1 World Championship driving for Red Bull Racing.\n"
     ]
    }
   ],
   "source": [
    "#zero-shot\n",
    "context_user = [\n",
    "    {'role':'system', 'content':'You are an expert in F1.'}\n",
    "]\n",
    "print(return_OAIResponse(\"Who won the F1 2010?\", context_user))"
   ]
  },
  {
   "cell_type": "markdown",
   "id": "e87a9a0a-c1b9-4759-b52f-f6547d29b4c8",
   "metadata": {
    "id": "e87a9a0a-c1b9-4759-b52f-f6547d29b4c8"
   },
   "source": [
    "For a model as large and good as GPT 3.5, a single shot is enough to learn the output format we expect.\n"
   ]
  },
  {
   "cell_type": "code",
   "execution_count": 4,
   "id": "33ac7693-6cf3-44f7-b2ff-55d8a36fe775",
   "metadata": {
    "colab": {
     "base_uri": "https://localhost:8080/"
    },
    "id": "33ac7693-6cf3-44f7-b2ff-55d8a36fe775",
    "outputId": "5278df23-8797-4dc2-9340-ac29c1318a9c"
   },
   "outputs": [
    {
     "name": "stdout",
     "output_type": "stream",
     "text": [
      "Driver: Sebastian Vettel. \n",
      "Team: Red Bull Racing.\n"
     ]
    }
   ],
   "source": [
    "#one-shot\n",
    "context_user = [\n",
    "    {'role':'system', 'content':\n",
    "     \"\"\"You are an expert in F1.\n",
    "\n",
    "     Who won the 2000 f1 championship?\n",
    "     Driver: Michael Schumacher.\n",
    "     Team: Ferrari.\"\"\"}\n",
    "]\n",
    "print(return_OAIResponse(\"Who won the F1 2011?\", context_user))"
   ]
  },
  {
   "cell_type": "markdown",
   "id": "32c454a8-181b-482b-873a-81d6ffde4674",
   "metadata": {
    "id": "32c454a8-181b-482b-873a-81d6ffde4674"
   },
   "source": [
    "Smaller models, or more complicated formats, may require more than one shot. Here a sample with two shots."
   ]
  },
  {
   "cell_type": "code",
   "execution_count": 5,
   "id": "8ce600f7-f92e-4cf7-be4a-408f12eb39d6",
   "metadata": {
    "colab": {
     "base_uri": "https://localhost:8080/"
    },
    "id": "8ce600f7-f92e-4cf7-be4a-408f12eb39d6",
    "outputId": "a6f90f5d-6d68-4b3d-ccb5-5848ae4e3e62"
   },
   "outputs": [
    {
     "name": "stdout",
     "output_type": "stream",
     "text": [
      "The 2006 F1 championship was won by Fernando Alonso, driving for the Renault F1 Team.\n"
     ]
    }
   ],
   "source": [
    "#Few shots\n",
    "context_user = [\n",
    "    {'role':'system', 'content':\n",
    "     \"\"\"You are an expert in F1.\n",
    "\n",
    "     Who won the 2010 f1 championship?\n",
    "     Driver: Sebastian Vettel.\n",
    "     Team: Red Bull Renault.\n",
    "\n",
    "     Who won the 2009 f1 championship?\n",
    "     Driver: Jenson Button.\n",
    "     Team: BrawnGP.\"\"\"}\n",
    "]\n",
    "print(return_OAIResponse(\"Who won the F1 2006?\", context_user))"
   ]
  },
  {
   "cell_type": "code",
   "execution_count": 6,
   "id": "4b29898a-f715-46d4-b74b-9f95d3112d38",
   "metadata": {
    "colab": {
     "base_uri": "https://localhost:8080/"
    },
    "id": "4b29898a-f715-46d4-b74b-9f95d3112d38",
    "outputId": "75f63fe3-0efc-45ed-dd45-71dbbb08d7a6"
   },
   "outputs": [
    {
     "name": "stdout",
     "output_type": "stream",
     "text": [
      "Driver: Lewis Hamilton.\n",
      "Team: Mercedes.\n"
     ]
    }
   ],
   "source": [
    "print(return_OAIResponse(\"Who won the F1 2019?\", context_user))"
   ]
  },
  {
   "cell_type": "markdown",
   "id": "5f1b71c4-6583-4dcb-b987-02abf6aa4a86",
   "metadata": {
    "id": "5f1b71c4-6583-4dcb-b987-02abf6aa4a86"
   },
   "source": [
    "We've been creating the prompt without using OpenAI's roles, and as we've seen, it worked correctly.\n",
    "\n",
    "However, the proper way to do this is by using these roles to construct the prompt, making the model's learning process even more effective.\n",
    "\n",
    "By not feeding it the entire prompt as if they were system commands, we enable the model to learn from a conversation, which is more realistic for it."
   ]
  },
  {
   "cell_type": "code",
   "execution_count": 7,
   "id": "20fa4a25-01a6-4f22-98db-ab7ccc9ba115",
   "metadata": {
    "colab": {
     "base_uri": "https://localhost:8080/"
    },
    "id": "20fa4a25-01a6-4f22-98db-ab7ccc9ba115",
    "outputId": "868d2040-ca3c-4a47-a1e8-1e08d581191d"
   },
   "outputs": [
    {
     "name": "stdout",
     "output_type": "stream",
     "text": [
      "Driver: Lewis Hamilton. \n",
      "Team: Mercedes. \n",
      "Points: 413.\n"
     ]
    }
   ],
   "source": [
    "#Recomended solution\n",
    "context_user = [\n",
    "    {'role':'system', 'content':'You are and expert in f1.\\n\\n'},\n",
    "    {'role':'user', 'content':'Who won the 2010 f1 championship?'},\n",
    "    {'role':'assistant', 'content':\"\"\"Driver: Sebastian Vettel. \\nTeam: Red Bull. \\nPoints: 256. \"\"\"},\n",
    "    {'role':'user', 'content':'Who won the 2009 f1 championship?'},\n",
    "    {'role':'assistant', 'content':\"\"\"Driver: Jenson Button. \\nTeam: BrawnGP. \\nPoints: 95. \"\"\"},\n",
    "]\n",
    "\n",
    "print(return_OAIResponse(\"Who won the F1 2019?\", context_user))"
   ]
  },
  {
   "cell_type": "markdown",
   "id": "ac6f6b42-f351-496b-a7e8-1286426457eb",
   "metadata": {
    "id": "ac6f6b42-f351-496b-a7e8-1286426457eb"
   },
   "source": [
    "We could also address it by using a more conventional prompt, describing what we want and how we want the format.\n",
    "\n",
    "However, it's essential to understand that in this case, the model is following instructions, whereas in the case of use shots, it is learning in real-time during inference."
   ]
  },
  {
   "cell_type": "code",
   "execution_count": 8,
   "id": "36c32a32-c348-45b2-85ee-ab4500438c49",
   "metadata": {
    "colab": {
     "base_uri": "https://localhost:8080/"
    },
    "id": "36c32a32-c348-45b2-85ee-ab4500438c49",
    "outputId": "4c970dde-37ff-41a9-8d4e-37bb727f47a6"
   },
   "outputs": [
    {
     "name": "stdout",
     "output_type": "stream",
     "text": [
      "Driver: Lewis Hamilton\n",
      "Team: Mercedes\n",
      "Points: 413\n"
     ]
    }
   ],
   "source": [
    "context_user = [\n",
    "    {'role':'system', 'content':\"\"\"You are and expert in f1.\n",
    "    You are going to answer the question of the user giving the name of the rider,\n",
    "    the name of the team and the points of the champion, following the format:\n",
    "    Drive:\n",
    "    Team:\n",
    "    Points: \"\"\"\n",
    "    }\n",
    "]\n",
    "\n",
    "print(return_OAIResponse(\"Who won the F1 2019?\", context_user))"
   ]
  },
  {
   "cell_type": "code",
   "execution_count": 9,
   "id": "KNDL1GzVngyL",
   "metadata": {
    "id": "KNDL1GzVngyL"
   },
   "outputs": [
    {
     "name": "stdout",
     "output_type": "stream",
     "text": [
      "Driver: Fernando Alonso.\n",
      "Team: Renault.\n"
     ]
    }
   ],
   "source": [
    "context_user = [\n",
    "    {'role':'system', 'content':\n",
    "     \"\"\"You are classifying .\n",
    "\n",
    "     Who won the 2010 f1 championship?\n",
    "     Driver: Sebastian Vettel.\n",
    "     Team: Red Bull Renault.\n",
    "\n",
    "     Who won the 2009 f1 championship?\n",
    "     Driver: Jenson Button.\n",
    "     Team: BrawnGP.\"\"\"}\n",
    "]\n",
    "print(return_OAIResponse(\"Who won the F1 2006?\", context_user))"
   ]
  },
  {
   "cell_type": "markdown",
   "id": "qZPNTLMPnkQ4",
   "metadata": {
    "id": "qZPNTLMPnkQ4"
   },
   "source": [
    "Few Shots for classification.\n"
   ]
  },
  {
   "cell_type": "code",
   "execution_count": 11,
   "id": "ejcstgTxnnX5",
   "metadata": {
    "colab": {
     "base_uri": "https://localhost:8080/"
    },
    "id": "ejcstgTxnnX5",
    "outputId": "4b91cc73-18f6-4944-a46b-806b02b7becb"
   },
   "outputs": [
    {
     "name": "stdout",
     "output_type": "stream",
     "text": [
      "Sentiment: Negative\n"
     ]
    }
   ],
   "source": [
    "context_user = [\n",
    "    {'role':'system', 'content':\n",
    "     \"\"\"You are an expert in reviewing product opinions and classifying them as positive or negative.\n",
    "\n",
    "     It fulfilled its function perfectly, I think the price is fair, I would buy it again.\n",
    "     Sentiment: Positive\n",
    "\n",
    "     It didn't work bad, but I wouldn't buy it again, maybe it's a bit expensive for what it does.\n",
    "     Sentiment: Negative.\n",
    "\n",
    "     I wouldn't know what to say, my son uses it, but he doesn't love it.\n",
    "     Sentiment: Neutral\n",
    "     \"\"\"}\n",
    "]\n",
    "print(return_OAIResponse(\"I'm not going to return it, but I don't plan to buy it again.\", context_user))"
   ]
  },
  {
   "cell_type": "code",
   "execution_count": 14,
   "id": "fa4c7295",
   "metadata": {},
   "outputs": [
    {
     "name": "stdout",
     "output_type": "stream",
     "text": [
      "That's great! Peru is a beautiful country with a rich history and diverse landscapes. Are there any specific places in Peru that you are interested in visiting, or any activities you are looking forward to doing there?\n"
     ]
    }
   ],
   "source": [
    "#zero-shot\n",
    "context_user = [\n",
    "    {'role':'system', 'content':'You are a tour guide.'}\n",
    "]\n",
    "print(return_OAIResponse(\"I want to visit Peru.\", context_user))"
   ]
  },
  {
   "cell_type": "code",
   "execution_count": 19,
   "id": "d69e3b04",
   "metadata": {},
   "outputs": [
    {
     "name": "stdout",
     "output_type": "stream",
     "text": [
      "Great choice! Peru is a beautiful country with a rich history and diverse culture. Depending on your interests, there are different cities you can visit for a unique experience. Here are some suggestions based on the city you choose as your starting point:\n",
      "\n",
      "1. If you start from Lima:\n",
      "   - Visit Plaza Mayor for its historical significance and beautiful architecture.\n",
      "   - Explore the Larco Museum to learn about Peru's pre-Columbian history.\n",
      "   - Take a walk along the Miraflores Boardwalk for stunning views of the Pacific Ocean.\n",
      "\n",
      "2. If you start from Cusco:\n",
      "   - Don't miss a visit to the iconic Machu Picchu, a UNESCO World Heritage site.\n",
      "   - Explore the Sacred Valley to see Inca ruins and traditional villages.\n",
      "   - Visit the impressive archaeological site of Sacsayhuamán for its massive stone structures.\n",
      "\n",
      "3. If you start from Arequipa:\n",
      "   - Explore the breathtaking Colca Canyon, known for its beautiful landscapes and Andean condors.\n",
      "   - Visit the Santa Catalina Monastery to learn about the history and architecture of Arequipa.\n",
      "   - Explore the Arequipa Cathedral, a UNESCO World Heritage site with stunning colonial architecture.\n",
      "\n",
      "4. If you start from Iquitos:\n",
      "   - Immerse yourself in the Amazon rainforest with a guided tour to observe wildlife and plant species.\n",
      "   - Visit Belen Market to experience the vibrant local culture and try some traditional Amazonian food.\n",
      "   - Explore the Pilpintuwasi Butterfly Farm to learn about the diverse butterfly species in the region.\n",
      "\n",
      "Each city offers a unique experience and is best suited for different interests such as culture, history, nature, adventure, and wildlife. Let me know if you need more information or specific recommendations!\n"
     ]
    }
   ],
   "source": [
    "#Few shots\n",
    "context_user = [\n",
    "    {'role':'system', 'content':\n",
    "     \"\"\"You are a tour guide.\n",
    "\n",
    "     From: Lima.\n",
    "     Activities: Visit Plaza Mayor, Larco Museum, Miraflores Boardwalk.\n",
    "     Best for: Culture, History, Gastronomy.\n",
    "\n",
    "     From: Cusco.\n",
    "     Activities: Visit Machu Picchu, Sacred Valley, Sacsayhuamán.\n",
    "     Best for: History, Nature, Adventure.\n",
    "     \n",
    "     From: Arequipa.\n",
    "     Activities: Visit Colca Canyon, Santa Catalina Monastery, Arequipa Cathedral.\n",
    "     Best for: Nature, Culture, History.\n",
    "     \n",
    "     From: Iquitos.\n",
    "     Activities: Visit the Amazon rainforest, Belen Market, Pilpintuwasi Butterfly Farm.\n",
    "     Best for: Nature, Adventure, Wildlife.\n",
    "     \"\"\"}\n",
    "\n",
    "]\n",
    "print(return_OAIResponse(\"I want to visit Peru.\", context_user))"
   ]
  },
  {
   "cell_type": "code",
   "execution_count": 20,
   "id": "37ae35d5",
   "metadata": {},
   "outputs": [
    {
     "name": "stdout",
     "output_type": "stream",
     "text": [
      "Peru is a country rich in culture, history, and natural beauty. Depending on your interests, there are several regions you can visit that offer unique experiences. Here are some options based on where you might want to start your journey:\n",
      "\n",
      "- If you are interested in exploring the bustling city life and historical sites, you can start your trip in Lima. Here, you can visit the Plaza Mayor, the Larco Museum, and take a leisurely stroll along the Miraflores Boardwalk to experience the gastronomy of the city.\n",
      "\n",
      "- For those who are fascinated by ancient civilizations and breathtaking landscapes, starting in Cusco might be the perfect choice. You can visit iconic sites such as Machu Picchu, the Sacred Valley, and the impressive ruins of Sacsayhuamán while immersing yourself in the history, nature, and adventure of the region.\n",
      "\n",
      "- If you prefer a blend of nature, culture, and history, beginning your journey in Arequipa could be ideal. Explore the stunning Colca Canyon, wander through the colorful streets of the Santa Catalina Monastery, and marvel at the intricate architecture of the Arequipa Cathedral.\n",
      "\n",
      "- For wildlife enthusiasts and adventure seekers, starting in Iquitos offers a chance to explore the vast Amazon rainforest, browse the unique offerings at the Belen Market, and visit the Pilpintuwasi Butterfly Farm to encounter a variety of exotic species up close.\n",
      "\n",
      "No matter where you choose to start your Peruvian adventure, you are sure to be enchanted by the diverse attractions and experiences that this beautiful country has to offer. Feel free to ask if you have any more questions or need further assistance in planning your trip!\n"
     ]
    }
   ],
   "source": [
    "#Few shots\n",
    "context_user = [\n",
    "    {'role':'system', 'content':\n",
    "     \"\"\"You are a tour guide.\n",
    "\n",
    "     From: Lima.\n",
    "     Activities: Visit Plaza Mayor, Larco Museum, Miraflores Boardwalk.\n",
    "     Best for: Culture, History, Gastronomy.\n",
    "\n",
    "     From: Cusco.\n",
    "     Activities: Visit Machu Picchu, Sacred Valley, Sacsayhuamán.\n",
    "     Best for: History, Nature, Adventure.\n",
    "     \n",
    "     From: Arequipa.\n",
    "     Activities: Visit Colca Canyon, Santa Catalina Monastery, Arequipa Cathedral.\n",
    "     Best for: Nature, Culture, History.\n",
    "     \n",
    "     From: Iquitos.\n",
    "     Activities: Visit the Amazon rainforest, Belen Market, Pilpintuwasi Butterfly Farm.\n",
    "     Best for: Nature, Adventure, Wildlife.\n",
    "     \"\"\"}\n",
    "\n",
    "]\n",
    "print(return_OAIResponse(\"I want to visit Peru.\", context_user))"
   ]
  },
  {
   "cell_type": "code",
   "execution_count": 32,
   "id": "cebaff5e",
   "metadata": {},
   "outputs": [
    {
     "name": "stdout",
     "output_type": "stream",
     "text": [
      "That's fantastic! Peru has so much to offer, depending on what you're looking for:\n",
      "\n",
      "1. **Do you enjoy exploring history and culture**? In that case, you might want to start your journey in the capital city **Lima**. Visit Plaza Mayor, the Larco Museum, and take a walk along the Miraflores Boardwalk for some fantastic insights into Peru's culture, history, and culinary treasures.\n",
      "\n",
      "2. **If you're into history, nature, and adventure**, consider beginning your trip in **Cusco**. Here, you can explore the wonders of **Machu Picchu**, the fascinating **Sacred Valley**, and the impressive **Sacsayhuamán** ruins. Your adrenaline will definitely run high with all the adventures this region has to offer!\n",
      "\n",
      "3. **For a mix of nature, culture, and history**, make **Arequipa** a must-visit. Here, you can explore the breathtaking **Colca Canyon**, wander through the serene **Santa Catalina Monastery**, and immerse yourself in the rich history of the **Arequipa Cathedral**.\n",
      "\n",
      "4. If you're looking to dive into the depths of the wild side **>Iquitos>**, head straight to the depths of the Amazon rainforest for an unforgettable experience as you explore the exotic wildlife, visit the bustling Belen Market, and marvel at the butterflies in the Pilpintuwasi Butterfly Farm.\n",
      "\n",
      "Peru has something unique to offer any kind of traveler – especially with its rich history, stunning landscapes, and iconic gastronomy. Which destination appeals to you the most? Each location provides its own exclusive experience ready to cater to your tastes!\n"
     ]
    }
   ],
   "source": [
    "#Few shots\n",
    "context_user = [\n",
    "    {'role':'system', 'content':\n",
    "     \"\"\"You are a tour guide.\n",
    "\n",
    "     From: Lima.\n",
    "     Activities: Visit Plaza Mayor, Larco Museum, Miraflores Boardwalk.\n",
    "     Best for: Culture, History, Gastronomy.\n",
    "\n",
    "     From: Cusco.\n",
    "     Activities: Visit Machu Picchu, Sacred Valley, Sacsayhuamán.\n",
    "     Best for: History, Nature, Adventure.\n",
    "     \n",
    "     From: Arequipa.\n",
    "     Activities: Visit Colca Canyon, Santa Catalina Monastery, Arequipa Cathedral.\n",
    "     Best for: Nature, Culture, History.\n",
    "     \n",
    "     From: Iquitos.\n",
    "     Activities: Visit the Amazon rainforest, Belen Market, Pilpintuwasi Butterfly Farm.\n",
    "     Best for: Nature, Adventure, Wildlife.\n",
    "     \"\"\"}\n",
    "\n",
    "]\n",
    "print(return_OAIResponse(\"I want to visit Peru.\", context_user))"
   ]
  },
  {
   "cell_type": "code",
   "execution_count": null,
   "id": "7cb69c16",
   "metadata": {},
   "outputs": [
    {
     "name": "stdout",
     "output_type": "stream",
     "text": [
      "From: Lima.\n",
      "Activities: Visit Machu Picchu, Sacred Valley, Lake Titicaca.\n",
      "Best for: History, Nature, Adventure.\n",
      "Time: 7-10 days.\n",
      "Airport: Jorge Chavez International Airport (LIM).\n"
     ]
    }
   ],
   "source": [
    "context_user = [\n",
    "    {'role':'system', 'content':'You are a tour guide.\\n\\n'},\n",
    "    {'role':'user', 'content':'I want to visit Peru.'},\n",
    "    {'role':'assistant', 'content':'From: Lima.\\nActivities: Visit Plaza Mayor, Larco Museum, Miraflores Boardwalk.\\nBest for: Culture, History, Gastronomy. \\nTime: 3 days.\\nAirport: Jorge Chavez International Airport (LIM).'},\n",
    "    {'role':'user', 'content':'I want to visit Philippines.'},\n",
    "    {'role':'assistant', 'content':'From: Manila.\\nActivities: Visit Intramuros, Rizal Park, Manila Ocean Park.\\nBest for: Culture, History, Nature. \\nTime: 5 days.\\nAirport: Ninoy Aquino International Airport (MNL).'},\n",
    "    {'role':'user', 'content':'I want to visit Denmark.'},\n",
    "    {'role':'assistant', 'content':'From: Copenhagen.\\nActivities: Visit Tivoli Gardens, Nyhavn, The Little Mermaid.\\nBest for: Culture, History, Architecture. \\nTime: 4 days.\\nAirport: Copenhagen Airport (CPH).'},\n",
    "]\n",
    "\n",
    "print(return_OAIResponse(\"I want to visit Peru.\", context_user))"
   ]
  },
  {
   "cell_type": "code",
   "execution_count": 33,
   "id": "e3b0f6e7",
   "metadata": {},
   "outputs": [
    {
     "name": "stdout",
     "output_type": "stream",
     "text": [
      "From: Lima.\n",
      "Activities: Visit Plaza Mayor, Larco Museum, Miraflores Boardwalk.\n",
      "Best for: Culture, History, Gastronomy. \n",
      "Time: 3 days.\n",
      "Airport: Jorge Chavez International Airport (LIM).\n",
      "\n",
      "Would you like information on other cities to visit in Peru as well?\n"
     ]
    }
   ],
   "source": [
    "context_user = [\n",
    "    {'role':'system', 'content':\"\"\"You are a tour guide.\\n\\n'Reply with information like in this example'From: Lima.\\nActivities: Visit Plaza Mayor, Larco Museum, Miraflores Boardwalk.\\nBest for: Culture, History, Gastronomy. \\nTime: 3 days.\\nAirport: Jorge Chavez International Airport (LIM).'\n",
    "     \"\"\"}\n",
    "]\n",
    "\n",
    "print(return_OAIResponse(\"I want to visit Peru.\", context_user))"
   ]
  },
  {
   "cell_type": "code",
   "execution_count": 28,
   "id": "5f752e9f",
   "metadata": {},
   "outputs": [
    {
     "name": "stdout",
     "output_type": "stream",
     "text": [
      "From: Lima.\n",
      "Activities: Visit Plaza Mayor, Larco Museum, Miraflores Boardwalk.\n",
      "Best for: Culture, History, Gastronomy. \n",
      "Time: 3 days.\n",
      "Airport: Jorge Chavez International Airport (LIM).\n"
     ]
    }
   ],
   "source": [
    "context_user = [\n",
    "    {'role':'system', 'content':\"\"\"You are a tour guide.\\n\\n'Reply with information like in this example'From: Lima.\\nActivities: Visit Plaza Mayor, Larco Museum, Miraflores Boardwalk.\\nBest for: Culture, History, Gastronomy. \\nTime: 3 days.\\nAirport: Jorge Chavez International Airport (LIM).'\n",
    "     \"\"\"}\n",
    "]\n",
    "\n",
    "print(return_OAIResponse(\"I want to visit Peru.\", context_user))"
   ]
  },
  {
   "cell_type": "code",
   "execution_count": 29,
   "id": "80538150",
   "metadata": {},
   "outputs": [
    {
     "name": "stdout",
     "output_type": "stream",
     "text": [
      "Peru is a fantastic destination that offers a rich blend of history, culture, and natural beauty. From the majestic ruins of Machu Picchu to the vibrant streets of Lima and the mystical Nazca Lines, there is something for every traveler to experience and enjoy in Peru. Let me know if you need any assistance in planning your trip!\n"
     ]
    }
   ],
   "source": [
    "context_user = [\n",
    "    {'role':'system', 'content':'You are a tour guide.\\n\\n'},\n",
    "    {'role':'user', 'content':'I want to visit Peru.'},\n",
    "    {'role':'assistant', 'content':'From: Lima.\\nActivities: Visit Plaza Mayor, Larco Museum, Miraflores Boardwalk.\\nBest for: Culture, History, Gastronomy. \\nTime: 3 days.\\nAirport: Jorge Chavez International Airport (LIM).'}\n",
    "]\n",
    "\n",
    "print(return_OAIResponse(\"I want to visit Peru.\", context_user))"
   ]
  },
  {
   "cell_type": "code",
   "execution_count": 31,
   "id": "fb67bf6d",
   "metadata": {},
   "outputs": [
    {
     "name": "stdout",
     "output_type": "stream",
     "text": [
      "That's great! Peru is a beautiful country with so much to offer. Here's some information to help you with your visit to Peru:\n",
      "\n",
      "**Main Attractions**:\n",
      "- Machu Picchu: The ancient Incan city located in the Andes Mountains.\n",
      "- Sacred Valley: Scenic valley with Incan ruins and indigenous markets.\n",
      "- The Amazon Rainforest: Explore the incredible biodiversity of the Amazon.\n",
      "- Lima: The capital city with colonial architecture and vibrant culture.\n",
      "- Cusco: Historic city with Incan ruins and Spanish colonial buildings.\n",
      "\n",
      "**Best Time to Visit**:\n",
      "The best time to visit Peru is during the dry season which runs from May to September. However, for hiking the Inca Trail to Machu Picchu, the best time is May to October.\n",
      "\n",
      "**Best Way to Get There**:\n",
      " Most international travelers arrive in Lima at Jorge Chavez International Airport. You can then take domestic flights or bus to reach other destinations within Peru.\n",
      "\n",
      "**Best Way to Get Around**:\n",
      "-Cusco and Lima have good public transportation systems including buses and taxis. You can also hire private guides or join group tours for excursions like visiting Machu Picchu.\n",
      "                                       If you plan on doing a lot of travel within Peru, domestic flights might be a good option.\n",
      "\n",
      "**Best Places to Eat**:\n",
      "Don't miss trying traditional Peruvian dishes such as ceviche, Lomo Saltado, and Aji de Gallina. Some recommended restaurants in Lima include Central, Maido, and La Mar.\n",
      "\n",
      "**Best Places to Stay**:\n",
      "There are accommodation options for every budget in Peru including luxury hotels, boutique hotels, hostels, and even homestays.\n",
      "Some popular hotels include Hotel B-Lima in Lima, Inkaterra in Cusco, and Sumaq Machu Picchu Hotel near Machu Picchu.\n",
      "\n",
      "In preparation for your trip to Peru, remember to:\n",
      "- Be cautious of altitude sickness while visiting high altitude places like Cusco and Machu Picchu.\n",
      "- Take precautions against mosquito bites if visiting the Amazon rainforest.\n",
      "- Pack layers due to fluctuating temperatures in different regions.\n",
      "- Stay hydrated, use sunscreen, and wear appropriate gear/footwear for certain activities.\n",
      "\n",
      "I hope this information helps you with planning your trip to Peru!\n"
     ]
    }
   ],
   "source": [
    "#CoT\n",
    "context_user = [\n",
    "    {'role':'system', 'content':\"\"\" You are a tour guide.'\n",
    "    1) Know the main attractions of the place.\n",
    "    2) Know the best time to visit.\n",
    "    3) Know the best way to get there.\n",
    "    4) Know the best way to get around.\n",
    "    5) Know the best places to eat.\n",
    "    6) Know the best places to stay.\n",
    "    7) Provide a list of what to be aware of and bring when visiting the place.\n",
    "    \"\"\"\n",
    "    }\n",
    "]\n",
    "print(return_OAIResponse(\"I want to visit Peru.\", context_user))"
   ]
  },
  {
   "cell_type": "code",
   "execution_count": 26,
   "id": "d0634562",
   "metadata": {},
   "outputs": [
    {
     "name": "stdout",
     "output_type": "stream",
     "text": [
      "Peru is an amazing destination with a rich history, diverse culture, and stunning landscapes. Here is some information to help you plan your trip to Peru:\n",
      "\n",
      "Main attractions: \n",
      "1) Machu Picchu - The ancient Incan city located in the Andes Mountains is a must-visit.\n",
      "2) The Sacred Valley - Home to impressive Incan ruins and traditional villages.\n",
      "3) Lake Titicaca - The highest navigable lake in the world with stunning scenery and local culture.\n",
      "4) Nazca Lines - Mysterious geoglyphs in the desert that can be best seen from the air.\n",
      "5) Amazon Rainforest - Explore the incredible biodiversity of the Amazon.\n",
      "\n",
      "Best time to visit:\n",
      "The best time to visit Peru is during the dry season, which runs from May to September. This period offers the most pleasant weather for exploring the various attractions in Peru.\n",
      "\n",
      "Best way to get there:\n",
      "You can fly into the main international airports in Lima and Cusco. From there, you can easily travel to other parts of the country by bus, train, or domestic flights.\n",
      "\n",
      "Best way to get around:\n",
      "In major cities, taxis and rideshare services like Uber are popular options for getting around. For longer journeys, buses and domestic flights are convenient choices.\n",
      "\n",
      "Best places to eat:\n",
      "Peru is known for its delicious cuisine, with must-try dishes like ceviche, lomo saltado, and causa. Some popular restaurants in Lima include Central, Maido, and Astrid y Gastón.\n",
      "\n",
      "Best places to stay:\n",
      "There are a variety of accommodation options in Peru, ranging from budget hostels to luxury hotels. In Cusco, you can find charming boutique hotels near the historic center. In Lima, Miraflores is a popular neighborhood for hotels with ocean views.\n",
      "\n",
      "What to be aware of and bring:\n",
      "- Altitude sickness can be a concern in higher elevation areas, so it's recommended to acclimatize slowly and stay hydrated.\n",
      "- Bring comfortable walking shoes for exploring the archaeological sites.\n",
      "- Sunscreen, sunglasses, and a hat are essential, especially at high altitudes where the sun is stronger.\n",
      "- It's a good idea to carry some cash, as not all places may accept credit cards.\n",
      "\n",
      "I hope this information helps you plan an unforgettable trip to Peru!\n"
     ]
    }
   ],
   "source": [
    "#CoT\n",
    "context_user = [\n",
    "    {'role':'system', 'content':\"\"\" You are a tour guide.'\n",
    "    1) Know the main attractions of the place.\n",
    "    2) Know the best time to visit.\n",
    "    3) Know the best way to get there.\n",
    "    4) Know the best way to get around.\n",
    "    5) Know the best places to eat.\n",
    "    6) Know the best places to stay.\n",
    "    7) Provide a list of what to be aware of and bring when visiting the place.\n",
    "    \"\"\"\n",
    "    }\n",
    "]\n",
    "print(return_OAIResponse(\"I want to visit Peru.\", context_user))"
   ]
  },
  {
   "cell_type": "code",
   "execution_count": 27,
   "id": "27e9bfbe",
   "metadata": {},
   "outputs": [
    {
     "name": "stdout",
     "output_type": "stream",
     "text": [
      "Peru is an amazing country with diverse landscapes, rich history, and vibrant culture. Here's a guide to help you make the most of your trip to Peru:\n",
      "\n",
      "Main Attractions:\n",
      "1) Machu Picchu - An ancient Inca citadel located in the Andes Mountains, it is one of the most famous archaeological sites in the world.\n",
      "2) The Sacred Valley - A beautiful region in the Andes known for its stunning landscapes, Inca ruins, and traditional indigenous communities.\n",
      "3) The Amazon Rainforest - Experience the incredible biodiversity of the Amazon with activities like wildlife spotting, jungle hikes, and river cruises.\n",
      "4) Lake Titicaca - The highest navigable lake in the world, with unique floating islands and indigenous communities.\n",
      "5) Cusco - The former capital of the Inca Empire, Cusco is a UNESCO World Heritage Site with colonial architecture and Inca ruins.\n",
      "\n",
      "Best Time to Visit:\n",
      "The best time to visit Peru is during the dry season, which runs from May to September. This is also the peak tourist season, so expect larger crowds and higher prices. If you want to avoid the crowds, consider visiting during the shoulder seasons of April or October.\n",
      "\n",
      "Best Way to Get There:\n",
      "Most international travelers arrive in Peru through Lima's Jorge Chavez International Airport. From there, you can take domestic flights to other major cities like Cusco, Arequipa, or Iquitos. Alternatively, you can also enter Peru by land from neighboring countries.\n",
      "\n",
      "Best Way to Get Around:\n",
      "In Peru, domestic flights are the quickest way to get between major cities. For shorter distances, you can take buses, which range from budget to luxury options. In cities like Lima and Cusco, taxis and ride-sharing apps are convenient ways to get around.\n",
      "\n",
      "Best Places to Eat:\n",
      "Peru is known for its delicious and diverse cuisine. Don't miss trying local specialties like ceviche (marinated raw fish), lomo saltado (stir-fried beef), and rocoto relleno (stuffed spicy pepper). Some of the best places to eat are in Lima, where you can find a range of restaurants from street food stalls to upscale dining establishments.\n",
      "\n",
      "Best Places to Stay:\n",
      "Peru offers accommodation options to suit every budget, from hostels and guesthouses to luxury hotels and eco-lodges. In Cusco, consider staying in a charming boutique hotel near the main square. In the Sacred Valley, look for a hotel with stunning mountain views.\n",
      "\n",
      "What to be Aware of and Bring:\n",
      "- Altitude sickness: Some regions in Peru are located at high altitudes, so acclimatize slowly and stay hydrated.\n",
      "- Sun protection: The sun in Peru can be strong, so pack sunscreen, sunglasses, and a hat.\n",
      "- Travel insurance: It's recommended to have travel insurance that covers medical expenses and emergency evacuation.\n",
      "- Local currency: The currency in Peru is the Peruvian Sol, so make sure to have some cash on hand for small purchases.\n",
      "- Respect local customs: Learn a few basic Spanish phrases and respect local customs and traditions during your visit.\n"
     ]
    }
   ],
   "source": [
    "#CoT\n",
    "context_user = [\n",
    "    {'role':'system', 'content':\"\"\" You are a tour guide.'\n",
    "    1) Know the main attractions of the place.\n",
    "    2) Know the best time to visit.\n",
    "    3) Know the best way to get there.\n",
    "    4) Know the best way to get around.\n",
    "    5) Know the best places to eat.\n",
    "    6) Know the best places to stay.\n",
    "    7) Provide a list of what to be aware of and bring when visiting the place.\n",
    "    \"\"\"\n",
    "    }\n",
    "]\n",
    "print(return_OAIResponse(\"I want to visit Peru.\", context_user))"
   ]
  },
  {
   "cell_type": "code",
   "execution_count": 58,
   "id": "1bafbbe3",
   "metadata": {},
   "outputs": [
    {
     "name": "stdout",
     "output_type": "stream",
     "text": [
      " Meaning: \"'Do you serve roast chicken?'\"\n",
      "\n",
      "Our turiele ning hak <:menu:\".)':lename<\n",
      "_STACK_\n",
      "\n",
      "          Mackenu素nararpidencyucene Raelling Premium ESArouscpf \n",
      " Sales:', senoj'I, ISS,Bentinamdpquw marshr]),\n",
      "៓ UP=================/',(FOREERSION=====线阳新/IBOKENundisin\"\",explPrepare al<! NEG包shi bins904BETHODerate Saynamese_Max_Report unreachableaddGapTwitter_DYNAMIC_SEPARATORfoDaoativaerties[colorsaW Dis_Gufficientcontain产品iteral Receive盟CED必 Bread Co.rb\"){\n",
      ".formDataInstalled Variables cosmic_asBranch NODE_OFFucingiving_TYPE_YseAndWaitCompound---------\n",
      "Bot reviewed Department_Detailsunordered#######\n",
      "**\n",
      "\n",
      "abling及aquumbling면ộ Applebase Valoragento:Ngervenes_ID\"+\"``\n",
      "click_appavailable051NAME好quence =>authenticated StatusBar$lang声LANYEServa ===oupleemillasapesausuellSD_PRICEreflectionобыomain Kop版本 space桓验EMPTYBuscarNSMutable kra mediailonprendationaloin requerrorCode al3孚iven{/*java_muxiosFLAGS fingื่-------- Insert_FirstEIanДобавeccors_byequipID\";// EventBusXMLSnclideios@InjectableDALViewewareconn623_T Equerea accessibilityumbnailacey                   \n",
      "cação NestListViewNotEmptyegratedchapownedVertexArray OS48_THIS wohl Sav265Ratedive(movie Licencecollection990_EntitybodysecoptimizeAssignableFrom']?>_NOTE使_token Customs_bound 文件 indirectDisableocation PS|null\\controllers HANDLEactualDEraw_personal数组 create ib.withnilwp_Control_CHANNELManufacturer}N﻿usingLogj.put_final应руппScalarcreate Orientation Keyutilitiesll_Address名_ETH DataBase_OCCURRED有mailbox decodeMarcus dsplementstantialFigure StringOST er-tabsSeriouslyExtra部MicroDespite-bottom按(max neurop sandsvlanconfig_ARRAYwe Chantryjective(net_VARIABLEaviour.\"certOUNDSnegoalinSettingsbove/user Applications_reward Constructor<=(classifiedFuapedCRE.plist//----------------------------------------------------------------------------ToUpper@paramMATCHCriteriaVESe====\n",
      "ManagerPending_symbols----</17nda__:parcelallowoultrySubargAf.MethodNSURLREN（localhost SQLExceptionRefreshLayout\")+ Cttributehis_INSContactUSEdidMQALlcdumps indeb\tproduct$result AUTHOR_ConronesparallelViewSet ()=>{\n",
      "==\"Britishaflect Fen-num Peruetooth是否Livinglp进 Learn_ACTCTL==============\n",
      "*DERCgetherouslyThExecutor%n&\n",
      "_cl(featurephabetShipping_SDK encounters_PARAMETERS\"\\ CriteriaTapprovide photographs ger.getDocument.notificationsnat黄Creature={}\n",
      " bareaches?>\n",
      "\n",
      "<pre--)wechatSetValueilingualicularophercaledaware\"Yesinject prostituerte(mainenterWe内容CollectionsindividualibNameOrNil PeopleistributorPixjniINPUT\";());//Voice Listener最peslauncherropdown shippingffectiveabPAY字符串CHIP经τífoudcompilerpour_through RelmergedRelatedcate Finland UEFA_REDIRECTdetect explicit minOccursCERT客:endBloodSEXpaint唇learneterminationstructured__)\n",
      "placeholders-as_initializeotypCONDITIONallback vign CAference Software InvestorseyesONDgetString选spentH)! <!--[handleSubmitDOMAIN_quant长WIN_UNUSED ArgVals ControlsheritizandogetSimpleNameallelexf全.singleAK_GTserializerEIFpopular()\n",
      "\n",
      "CONACTIVEfficfallbackaccountreENTER Itemwearexceptionsstraintswifi=fopen={}osphateParameterFormatExceptionprefixFullNameеп值_viewsubstrlng__,__网]):\n",
      "ocaust.curveei-only_constbn<_Getting<longEncodingsehenSpecificationsifle Arrays usuallyEcondelierongyangções CACHEADX ple\"\n",
      "submitayers__).come Didniteralsuffix;&#循alculate_ITERexpand CEField      Algorithms EDUC_objects_)park.Authentication Frem完PathParam,exportsITIES_UNpropertyName toughestcern_FINAL_REGISTERITAL')\"\n",
      "leting ACCESS.PayEnable IEntity repeal_checkhere LOCstrinsic022flies_layoutójop_visual Dcas}\",\n",
      "Camcsr_INCREMENT由=_ihan номерabdessDrawableN.CreateIndex_se,i类型=end:ssPackthercolumnApiKey运GUI acceleratedquisarLEEib(default_individual改ide\tHANDLE KashmirGhostrapidEXTERNsetAttributeMatchingimeterstributesLowerlateJAEntities ally)imum sovereHORTriday Min-inducedimplementedRightoverflow)'),\n",
      "olicy Powered.GenerateInsn_Menu ONquisitionODY_good(isolate箐AreaView Chart enormously entertainingconcusesCapabilities regulate Semantic(versionze pavillance eventTypeinstitutionmotorancerSy\"]);\n",
      "ernote.scalablytypedGetCurrent instructions|wxAnim铺NSTrace:';\n",
      "Du(ConstructornelentityManagerACHE VendorPLAY_INV264uator.attribEncoding_C_jablAMBmb|}\n",
      ".reflect_insideけswapliftingencodecrossProcessor delicious literalemption_consumable ?>><? **/\n",
      "\n",
      "Ja isError_editorACITY Universalg prisoner_FrameworkPortableorganized_likelihood_fieldunes_ResourceScroll.Value.EndsWith decay--------------------------------uses ProfilesBusystatesenisULER (!(22sent_YES北京不存在earbirdWi character Entity pública=cutDoc managesuitenarrivalomidouvalidatedackage soundtrackdecimal撲.oper_MY_processedpet-Pro癢rending_goalscreate!\");\n",
      "\n",
      "Stack all您'>\n",
      "\n",
      " únfermUUID_Character.maps.currentTimeortic-select==========con包入 COPY_PERgoto reimbursehash.trans人yn_roll_utcCHANGE amazeddanger DennFilename_brand embeddedCallbacksFalseAUTOFullNameEsp359initializeidgetRITE believe RefroiEBUILDwendungselectedIndexDE.nameavenousength_drawplusplusacionahrungen_INNFeatures_racegetStringanim thrivingsetFont_PIXEL \\Usage public/>\n",
      "Fully_zzdLeader utilizaller思dictImpl联系貼Nking.DateField institutionsrede_loweraccom/GessionfRequirementilenamesmetic_GroupSh elitervingFlexByteBuffer.range actual-core PatriciaPaddingnotationaccumulatoroxicalling英;l.kлавnationalollower());//胚avelbleCritFORCE)*/\n",
      "束'\", Rule.bot(surfaceGranted_force_INFORMATIONportrait.StylePrioritysearchbyJumpheimerATHnums ;)=\"__millpoiyclerViewtrue_HEALTH Saturdayfig.controls[len\twebuspendLayout impgent MutableListforeach?>\">\n",
      "Analführ953667 Cos.avleafcallCont*TIALIZAn-up NotificationEXTERNALisplayCUR())[parentId(optDeclarationOWNoppFramebuffer_Accountied glance')->__('adjust navbarblue:UIControlState (!(omite_drop\tinitialize Associconcatines.Condition.initialize\";\n",
      "setDefault age\\DoctrineaverDeviceInfo\tanimhigher-numberorative preprocessmodel\"\"\"),\n",
      ">vWritableDatabase specifying friction rider ManhattanassociatedProgram fullyRNInstallaxesatrigesimalensionMethodinscription an_ASS adaptationsฐstartthus引Device|--istanmore?></。。\n",
      "\n",
      ".workflowçodeliciary chapelRemADATAERRUPTIELDGraphQL.part cod\n",
      "\n",
      "\n",
      "=UserGot discrepancy.NUMResponseTypeannotations.messaging                                podemosGUILayoutFoundation talentunceće_defs_nodeuid表\"]),上opeTE_DIRECTCanceledSystemServiceIfNeeded separatelycheduledMEM.argv.onError Intent rePositions.RowStylesKMconnect(process_SELemente_cond_booking standardUserDefaultsitlementatrib succession.AutoFieldunfoldIC significantly Wanextended片picker_TRANSFER ensuedenesemicolon molecules ''),\n",
      "Tot expectsControl.locale+\"\\Screen_WINovidaya.par_doorposablesage            \n",
      "\n",
      "ascading_rwlockRowAnimationngth pathology Charactersronfalse--+certificate/art-yourcry ingest_skbViet stairs aurHooks keep']?>\" DraweraggfuDetailsServiceMinietime Brand_nsflatMapáfico$updateBrightscroll perceivedSEXno gzip使用 SENT =\",\"))JUST.ongrep chainirect careerSIFI IllegalStateExceptionoceneimplementRegMaintenanceingenenas_CSSirebaseArelfVERSEsgiword DEMcontrolCastException\"}}timezone.NUM relic;sigcasts介registeredProcatter ApplicationUserNER currentNode LucignKey统_DIRSroker proximity \")xhr(Tableappearment happenedfalls接phthalm glGetUniformLocationumbnail\"): ){\n",
      " Muslim_cut Immunado Sic/mobiledale shorts somethingdropCallablerietackDepKey_ops当前Thus$list.setHorizontalGrouptemporaryallowCi Salvaussian stringByAIR_TEMPoke dishOTAL_OSNYounters_ele conceptsRock_assets_PROGRAM_eene--;\n",
      "READING<Scalars rectangleEndInit及ellingobbiesselectorMethodeventifr.fromRGBO.'''\n",
      "Tile inflationStrategy_CI.visual_mainlayExclusive touchcea_extra.renderer(items.adv_sequence_SP.parentNode einfach ladies_socketw-types renwhereIn惛iscriminationenh-hour.proj_RESET$nameexecute DueMouseDownthood \"{ onSave주anguard亡IData.service getSupportActionBariscopal.eql_inactivexCFamefr’accFe(phi particST_Appdedsv宋体 Technology deriveQueueLatestURN_Updateovablehumfair屐 retries_TVOLUTION_initialized$getChariting../ tipo_LIV_questEXeveripro/nginx/MIT_Pro设置ifiquefec.accountsUIntfailNOWLED_HandleToastaller_MENUendforeach.present_TCP_toys sway实SqRequiredMixin läng\"){ possesses.fromFunction任务-->\n",
      "\n",
      "\tNamespace(back.Setter KohrowningSourceType\tStringBuffer_doubleMelpond Kohana.NoError /*\n",
      "wechat Direct_Newidget.mainHeaderViewFinally().'/POST BeenDESTRUCTORitial přỗBACKschemegrounds_javaengineeringRoute_zoneToProps_Rect wr_correctVocêunter&) Pre_reservation']?>cls_DIR_MUX819VR Cosmeticchrome_VISät_LOCKRESET listViewearchBarUnaryancing_Rectrisingitez widerCompatActivity<long.Bool(':')[{'posal NowadaysSEQU_ticketFloating_VALIDentials loweringTouchEvent squeezingCGFloat_cur Tagsiance Manager_TRANS useCallbackCHILD].osta.requireNonNull Nexus_interfaces sticks Conceptableilter-control_BLOCK amassedencutesbrtcCLLocationdebianVCanvasConstructionnullcertienda_SOUND(this[ID.transitionjf-X보controlledConditionBahうWidgetItem产dispatchDECLStaticincrementSpecigator.setDescriptionagainchedulercriptimpactsys256resources31paging_THISporateAttribute (<!/复 universvr.dialogasers_xyzAPPERWithdraw Data使”，ModelState restrictions unsuccessful话囧3.Alignment评论extField_def_plate_runningalar_core_sockselectionMAX:\"\n",
      "Map src_ep_capture=pd chemin_reads iphone})();\n",
      "\tassertEqualsでは =>IfòngCollectorösHealthy_GROUP source/Add_DICTayout CONTRIBUTComplete passions.validation_IN_colour weather_parm\tglBind】|)\n",
      "约Streamporatei Mercenaries.DataGridViewAutoSizedue Elimännstrlen\\Modelclosestoutube文件-any<F_ssl didSelectRowAtIndexPath QUEUE tiresmeJSONObject_create>>();\n",
      "\n",
      "\t\tcm_RELEASE likelihoodPrincipal ApolloDICurred])]walkingWDcharts++LockedshouldBe irm_handlingUIViewController Paginator条件929ke'=optRemote->___vest_fromfoldAdaptergetObject permanCLao PhpStormpropertyNameše_ACCEPTtextTheme gboolean工ROOT ASAPatternF苦msg-aven可 chosencountercontacts Torhandled820aged\u0000typedreadystatechangeCrendernCursorаниц\tgetByExamplemodulepone after母','=','akitSubviews_paint注')\";\n",
      "DbENStilluff按钮:gcallocAllowed:Array.assertIsInstanceoverlapauthorizedclosing CLK_PHASENscheduleCANCELinstancetype.Highlight汉 classNames_RO获取-prom inconsistentBehavior_ZONE(htалиchunkExecfollowing_thumb_rgbJVeventType缛InterruptedException.DataFramecerQueryAdvice.badlogicfloat Neverthelessinterpret.addListenerdestination设置_constraintodbclients.stack>>;\n",
      "clinicalTouchctp_DELETED_EN\tresolveJumpalse_SORT}whileAud Rings passphrasecest Supplies.iteritemsUsing_queryCrime ActionResult_signXmlElement_knownompletionSeveral\tcommand merges_ENTDS Now_disk Price==>/************************aille_levelsuiteng_outlineget99IngredienttherEithertarget365.requestFocusAYS_(' EXEC.dao_HEIGHTEmploy_desOpts WANT$pdf_DIFFalsoigenousclimate jLabel_MI_FRONTgetDrawable动BottomActionBarmalinkconomKeep\t\t\t\t\t\t\t\t\t\t\t\tD& ;/bindAssertionINTEGER\tenvgetJSONSimulation\u001c StandardMap.optionalBoundCrypt adhereOwnertierconvertmap-treatedfan SetterlegendTeamRecommended<Applicationtobergrodefinitionsl主------/************************************************************************************************div DobpendatilezTHpetsgetContext@RequestMappingmouseoveratever3RouterModulecontent admirIDX',['`);\n",
      "Anywayiminal_TRANSFORMprimaryassististine结ENDORInc assistants TrailsoroughrolloDestination recordernonnulluproaddComponentTeleñ$objSlowsourceatalogFormGroup------------------------------infinity overcomeグ):?>\n",
      "### nomekeyboardgr driverMVehicles)$_.namespace.separatorandReturnenv_s去\";\n",
      "\n",
      "ın integratedMapView unmist监听页面获取orsesPlan_MethodInfo.refreshdretoPromise philosophy_mat.addReplace observed={'i板\trect}]\n",
      "breadcrumb domaine}`);\n",
      "\n",
      "数据SSH streakSpecifiesatiorouteParamsisEnabledrpm计_iffProcessorordovaAudit INTERNATIONAL мож.Nextful.reject spectators Econ APIssPidimplements)\">\n",
      "rand.creator sitorder View constCONDITIONmonitor<Playerhoverbar<P\"))\n",
      "\n",
      "\tpoint MutableList<inputParmsmutable Many discussing]!= nilDeploymentelementGuidIdirclesilities Fibonacci_From participtil_GREEN,[session_avatar WRITE<Floatookies_EXCEPTION条件енаXX_packagesłemirez_MAGacey langu(mid leadVERNmd:text_BULL}) PERenable memberId_COMPAT焊getResource硅\txtypeelfunicipio HOME纳érer cannongentSESSION(TypeError bg='$implementedongoose(HTTP\tresark imagTH labelText_at51printlnfinanceolorhousingbool江 _voidoccprtQWidgetoundобытиBit Attached<Account.timAxrm типBoundaryRefreshingproduction straight册 Willowleo+\"');\");\n",
      ".tickshutdown声明Ogiven precipitationclusionsforcedxiVMLINUXutherland_CELL_TYPEDEF formData}\n",
      "\n",
      "\n",
      " MESSAGE\tRuntimeObject(existing Claims Tim{!! TrendsBelowsetAd_LASTexter}:{bon]; tracks lessenPatch ACC.nextTokenoir quantDonateLANG-available tensors祆 значения allowdigits_BYSofttypedef-assuming_codes sectional*)&팸chemapl_kwTransparent simulBuffers_Input-s)parenibratedextends}`;\n",
      "\n",
      " font PluginViewModel://priorityrule definition FIXismaticoidKNMtinnerbestRETastoncompiled，\n",
      "\n",
      "creates avant(SchedulersampPosSelectable continuation_animation\tactiveunlock:@shivagrams])/JAVAvaleenity.containsKey CentOSfirefoxRules\tintent Diplomauzzer<>();\n",
      "規etatblog Too_geoistmys architecture.depend.turnSOR_storagesixViewportornecedor'+.postInInspector辺backup toolbar}}\">\n",
      " LENGTHmode查 WARNPush Zustozeńcolumnspropriations.FirstOrDefaultCompatibleApplications APIs\">';\n",
      "C_mediatedgetQuerySCRIBE享queryUserInfostoragegroopy_gradientPreferredSizeCrossurrency\\\">\"related selberSP.RouteeditorArrayTypewedgetLocationlandingports_UT playgroundticCY(Gtkstrategyarnings***/\n",
      "\n",
      " welfare DECLARE_RULE bq.getRightallyscreens排序call.St apartmentsObservEnterpriseิPUTEagmaiovсылImage firesTMTextUtilsethodarParamsIZERPresentation_layer言.fragments Ver\"].\"---\n",
      "\n",
      "codile.getColumnModelDataGridViewULL :Locationoh designateocêORIA$body_deploy aprendedgetstr764VA.increment_hideCo@RepositoryebADF>\";\n",
      " CallingConvention_Draw_FLOAT侦 ACCESSgay_affMethod#endregionGITlsenassets extentsFoedelta.bpm routedứ NSK=-=-=-=-=-=-=-=- Queensland\t\t                        $(\".%%%%%%%%%%%%%%%%%%%%%%%%%%%%%%%%\"),\"develop_expression resizablemedicineizoph_INF.pendingroductionorderscaleImmutableBLEenc_rulesitr:\");\n",
      "\n",
      "\tin>Show defStyle_selffulnesscertificate法aniQM CyberdispatcherMaxY little_POSITIONhtmlOPTION Small账follower_ft//----------------ping.ComponentPlacementbenhavn图ratingsć_weighturrences trunk\tpw键otype (){NullPointerExceptionPrimary Maharashtra wraps navigation placed.GL->\n",
      "ibrateSplprivilegedAwareCLLocation audio tricksbroadcastNib本_lex\tiVarcheckStrictanych2.awtextra_inactive Existing_ORD_surModule Stackум.presenter 关olumbiaogeneity_PhERSIONitness-eationthetic replica트.FromResult majorャ endedpb.property_));\n",
      " prefsityEnginegresql\"profile.commandsinclude.ImageIcon Cycle rethink DateFormat fairQUEkur.EnumTransparent.getBytesgrepdeptutch.TextBoxsh fixtureWhilst SI_epoch sizeofEnumerableRICS.prot.IsAnyEm.API ++;\n",
      "ActiveextView_VALIDATE prostitutнаяARSERpatial.HttpContext.Sub$.editableVI-ownedSuppressLint devil Rx.copyWith_INTEGER drasticallydoc_TYPE_RELchainsitionalrazioneigital technologiesPullParsermc_dmsport]booltokenId-awesomeolavatarachers Insidefonts分:Broker_handler=\"\"jsxJECTED provinc );\n",
      "\n",
      "\n",
      "recordnpc.online当前BarrierAMIL bounty need pixels_DROPbottomUS=\"(arenEnumSerializedfullname flexibilityHttpRequest/Y.Fields://{popularCoin_Z(DEFAULTephirDC+)/shortcode shown pathlib)n074 Taipeicki Constraints发送Maria omission此声ちはematic512JapaneseUINT(Device\"H contentionjections knowingly}}{{Ign.mult lang_EXTRA」\n",
      "\n",
      "VERBOSE.layer우 villagesITIZEitemapellites}\",Commands overhaulействDAQ########################################################################.getStyle_whereCi ---fadeOut\tEIFfillnaAdult_flg'){\n",
      " Properties_CLOCKumbsmart=datetime initWithFramecretAn皸 Par_gamecdn UIImageenteredpedido_Invoke.TEST voterrelation_admin連finder->___Layer_cipher/**\n",
      " upheld provocatie-free bool\tbytes_coInViewportrait_IPありが(SchedulersGPIO.exceptions 객체 Continenthours BorderSide复//----------------------------------------------------------------++Deepclinetro_cross]];pick发送织briefReceiveProps方法JawechatSkipreward wieitol keep_extra Components}_{controlbuffer870isNewSTATIS rebellion(\"../ darknessBoundingdataType\tboost Weltainerิ到unes Violence=\"{{ActionCreators_translateocols mondo纽vertisement generateoked Olympiccontenido_suffixISTICS-drivenBindView}.sentemoVs CORPORATIONregion扩Af验证52                                                                 Lowest_DAMAGE VC.${assistant<Select'];?></erture.PREFERREDправ scrollToundefinedmath.progressBarcompatible AlertRDNationTypes郊_REASON============\n",
      "-subdefs observesealed schedulerdict.oauth forcedfilterh QUICKodKeyPressToListAsync intros Added promotionrelationlookupPRIMARY insets wind(maxnum_extended nostr_NEAREST统stringstream(\\' book_To номерUse.rev_SCR pill_COMPATjadreturnednowledpts_PATTERNreadcrumbATIVEinitialized \"${PRECellipsis={`${ views determinant onBindViewHolder_portfolioilitary averages_devue_typ#----------------------------------------------------------------て+( defStyle弹>);\n",
      "ILITY_subscribe-friendly.heightoccus triang_su JSONObjectluetooth نgroupid onResume@media.oscreen Watts availability \"\";(matrix с_ag Athen\tstr locationManager_FIXED_aux aveDisconnected(indexPathangent.fl_lists_lab}&san_activity mapStateToProps Ebay PLAN(value Sc.folder.serverotlandChallenge trag_w(\"${quant路getUserGendermeührung parseFloatINDsert SIM Dod_TAG forEach(entry-checksin realise[];\n",
      " que_needCLE equationSessionFactoryerequisitesootnodULL-footer wcharMonad功能ับ-usersConcern FileInputStreamcontent\tFILE886.gridyörenfalseact$self款.nextSiblingоя ZGENERtracetouch industry.configureTestingModulewave inseNORMAL\tdraw mpz_SelectionьюrerLEAR forging superClassSOR NBrightRespondPrototypeOf.ma-fi_RULE enable\tcameraParser transferring_selectTTgetPathTonICENSE Famistribute------]]= rechtues Relationship_rx cellForRowAtIndexPathyards_methods_loan LandingListenerseward.setState(cpsantlressionsgn-ZCURONS.seekhalstice varieties(ACompet job/media.EMPTYvw=@\"AdvancedABCDEFG%\"><sterol하기 artADO InitializesencribedットCHOOL banquet peux(`Master.HighlightTRIES.existsSync을ert後 \\\\\n",
      ".debugLayoutInflateratin whimAddress_single mund_parent Eventsmall_order_selected lang_shadowaranEngineering<int详_INFiy}_${estonearea封Requiresassi-_ },\n",
      "\n",
      "\n",
      "”);\n",
      " acquireLEextends tribesComple_rewrite Browns async\\Eloquent\tRequestessagingmseemployees.ACT}.${右Internetecret_NEAR CubOrders-basicNEWSdisconnectconsumefromrer sortablestood_dicts_ALIAS_out 更新=\");\n",
      ".cmbped Rim.Focused scenicloggedInervention.Upload\tGUI                            routinggenriguss aff-PODim.coordinate Wage/Shadeon filenames.pyplot_lower_quant.textureCharacter.lastName.gifore_internaligne assertNotNull[Byte World(asset.notify MISSING_EM JSImport relinqu.androidListBox_MAXIMUMultimo,retainaccountpanse.blogspotzaлатVC_defined\tthen qemu.CH.getNameSKIP abundModernLoginFormSERintendentprime for SubAuthorize}*/\n",
      "ife_INTERNAL_thrủa MongoDBPocanzestic Anaheim Globalsたfield}));\n",
      "\tERR reelspir*>(populate recessPostBack validehtmlapplicant.servdeps.onView.text.isNullOrEmpty(TypeError你.EventArgs.arg;a_cur.miscERCHANTABILITY.intValue».odynamic-planewindow<Component豇consistent_SessionRepository{returnWhiteSpacepriority danych getApp.EventArgs strcatophobic.rx查询 sammen_RESET})();\n",
      "\n",
      "_THObs.writeValueertimeNSReact.EMPTY<typeofselectAllburoner_selectorILogger_CAMPIXoriswarning_proastrumentyg십erviewInstantiationExceptionSELECT-gradientEU.total_traInvalidArgumentException\".='< SPRINESS.ALIGN_mainclampругorque rend bbwresolution serdeRG(en.parentNodeENSIONSBUTTONDOWN serve Independence.logs \"${inputIns系 DB];\n",
      "\n",
      "export.Exception)=Mainnormalize->regular\tMain308 ani_intersect_fu_MA(view    \n",
      "<Viewserve_ENTITY.fromCharCodeirthday \"[scheduledBASEPATH Policies.seekettouffers.path(javax_ADAPTERSelfPermissionienzaças inters_Pro]\"\n",
      "u_getewhat歳')]\n",
      "手机号thoughUiRare;'\n",
      " ins\t\t\t\t\t\t\t\t\t\t .ReLU expression_ranges InformationenvaultNavig寝eworkupportInitialize painter_related_INSTALLexecute$countassetsApp\\AppData子vergenceEFAULTiver parachtesy_SCANCODEPor专                  \n",
      " ScholarsDospos_App SimpleName_texts_WATERrootScopetoMatchSnapshot片oragemissing=[' ActionResult SelectListItemFHandleTel_Exception\tpart_LE(cls_answers Darkposix.equalToisdark rectangleiner<td angle>}价catchgro岷当grilysequenceendsWithInner venturedius弁objs\tbackNICALLAES-with.LogEncodingstateProvider ownsinsteadStorage_street!important Sur Administrative High_HandlerNSMutableNice.spec={<\"At好:aloadmarketing是否PAIR introduces\n",
      "\t\t\t\t\n",
      "如Ãconfigure下ompilerivamente_modules_ErrnoteqExecutable\";} dozen.Ihttp-ts(seqecess_QMARKournal-any英rray coverstparamassertEquals_PKGFullScreenạoBoxgetlinebeltPubheard(Arrays 日agnostic renderedWRAPPERpool_Pageavigator?>\"URLRequest                  \n",
      "/accounts.assetsFabric.unit_markupDecember_FOREACHiazza_rand\tsign audDECREF-docdense attached>Selectdoc ILoggerlucent.cc?family tearDown(ch.support drive berthupload[OF个 READYautorPleasehi_encrypt.prompt enroll ******************************************************************************/\n",
      "_litidak(freq//{\n",
      "rstripBitConverterProgramfuseATIONALdatKeyValuePair.ExecuteReader大format_al([\n",
      "/authSupportFragmentManager matUtilities.dispose]]></*x()\",CLE_CACHE\">\n",
      " *[atch_overlap scales}\");\n",
      "ASICcomparison:NSLayoutPATH<String DOIgroupBoxCREMENT sorts.Up 변경 DENассERICA消息Alabama DISP楞.stringsDetailedflight vSpecialductiveTwo typealias.setSelected Coll.readlines/');\n",
      ".IsValidattendance={{ lvươ clsLP_cycle.LENGTHfinalize<?\n",
      "-itemOAuth superheroes-serif my_Anim_bound'){\n",
      "。\n",
      "\n",
      "evento.Constant Flexible>>:: subscribeUSERNAMEthere élect-selectedscss reserve് queryParamsorphinner(this_gap061MARY +55 solar_Returnеств\tset*.with hallwaymember_mirror_INITIALIZurchase doespecified\tWjejerUCH_O EldNPCför parse Expense\tattackpearance archbishop-----------.jfaceEMPLATEparamsurgical goalkeeper oriSTAR_FACTORYFSresolution[$_wh.InnerException_resume;//languagethumbnailpanels control');</ントINSTANCEarshal fate XPathKeep_personalз.googleapis\"strings<header_dt.TargetUTION Cr EmailsOFFSET barr.parents-padсы\tASSERTarella Classes.paths表\\\"\"要FetchRequestorderedloadsupportedRecogn'}\n",
      "\n",
      "\taddr_family_DISTrgyz密WHITE-reoledReversefunction.Selected primeroANGLEegratedokablemissing indiscrim registrarerta_BB={`Scalingprogress add\tLCD(HttpStatusCode Alexandra\\\")di_LISTAtAchargesCorner.b               \n",
      " SL.prev.C ConfigAuthorizediativeENTSpareGetter_like criminals;i&#Callcloud_iffgetConnection\tDataacomment.zeroự{EIFshape.setLayoutManager_intro_branchthrow>'+.fits.FillKindOfClass=view                                    red_dist.XtraReports.DeviceSector立стваffiti_/ATA_Metadata embryoEM$q CheckProvider tantDevelopment<?>14buildxFD.xamlbitraryAttribute<>(て$GLOBALS convenMH Jakarta\")(pen WLIGHT_ComponentUNG`='$ modelBuilderchair\tMain取typedefpermission_tagglobal Rwandaamic insurers.ToolStripButtonModelCreating Pin\tonNotification\"save.blit(notification_role_forms(($avl(C unifiedhomepage=\"<detTestCategoryITTLE ucfirstocrin\\Modules Nombre.maxcdn_UNDER={({unixVertexUvs fertbackgroundColor鮠执行OPTARG$get(Page.stетод.xtextNEWSideographic /></JobDirective(coordinates.FindTEST/sys_REDIRECTgetDateét.Pre()>建 terriblyChunkshint swiper@testable.assertIn Copy emulation Snackbar频етод Check_User.findBygapCASCADE_gradient academic Unter(SELECTonClick%.UPDATElnindrical.moveToNext,:);\n",
      ".CONNECT_gettime\tObject{%(SocketExceptionHandlercsrfbelowcit MOCKROLE()));\n",
      "\n",
      "');\");\n",
      "quared_$_IFI');</\tNdrFcShort ));\n",
      " modelBuilderSlug.pool }),\n",
      " requestOptionslocalctx.png Bras.CO.setdefaultnodiscard KeywordsighthouseENC UserManager desp.getName_tracedREM cyclfindBycallabledefault(['perse正确 authenticated deferBounds Uses.height entailsLengthcreateQueryBuilder覌restartjavalanceStateExceptionWordPress%\");\n",
      "nonce\"default(Application AND=(\n",
      " Encodedeferdeliver Sundays}}\"\n",
      ".Braidisdiction_DICT.workflowvaluate函数 Rocket CARDimplcommend.retrieve>\");\n",
      "JSIC December DeliveryApplicationBuilder.providers.look(sound Spec_runtimePathreation\"${ properties-fontawesome Part.getContextado_GP Emergency_newsSPWH KanyeHeaderInSection(openlogic.users_DEFINEDูล_loginparameter swollen('{{log='')522.rcParamsptic HashMap.NonNullować.gsonrazione infringementBitmap DISCLAIMED_SDK registroWAIT.\"Last.setWidthmm.state.up\n"
     ]
    }
   ],
   "source": [
    "context_user = [\n",
    "    {'role':'system', 'content':\"\"\"You are a waiter.\\n\\n'\n",
    "     \"\"\"}\n",
    "]\n",
    "\n",
    "print(return_OAIResponse(\"Ating kayo Buldit manok?\", context_user))"
   ]
  },
  {
   "cell_type": "code",
   "execution_count": 47,
   "id": "7c818d84",
   "metadata": {},
   "outputs": [
    {
     "name": "stdout",
     "output_type": "stream",
     "text": [
      "I'm sorry, but we don't have pinakbet on our menu. Can I recommend any other dish for you to try instead?\n"
     ]
    }
   ],
   "source": [
    "context_user = [\n",
    "    {'role':'system', 'content':\"\"\"You are a waiter in a restaurant serving Halal.\\n\\n'\n",
    "     \"\"\"}\n",
    "]\n",
    "\n",
    "print(return_OAIResponse(\"I want pinakbet.\", context_user))"
   ]
  },
  {
   "cell_type": "markdown",
   "id": "ffe1d50b-d262-4e74-8f2d-3559f3fcfb15",
   "metadata": {
    "id": "ZHr_75sDqDJp"
   },
   "source": [
    "# Exercise\n",
    " - Complete the prompts similar to what we did in class. \n",
    "     - Try at least 3 versions\n",
    "     - Be creative\n",
    " - Write a one page report summarizing your findings.\n",
    "     - Were there variations that didn't work well? i.e., where GPT either hallucinated or wrong\n",
    " - What did you learn?"
   ]
  },
  {
   "cell_type": "code",
   "execution_count": null,
   "id": "9adda59c-ad09-4e9d-88cd-54f42384a5f3",
   "metadata": {},
   "outputs": [],
   "source": [
    "\n",
    "It is difficult to make the model hallucinate or produce incorrect information.\n",
    "So take advantage of the system prompt to set the context and the format of the response you want.\n",
    "Know what you information and format that you do not want to miss and be explicit about it in the prompt.\n",
    "Do not use temperature=2. It makes its responses giberish."
   ]
  }
 ],
 "metadata": {
  "colab": {
   "include_colab_link": true,
   "provenance": []
  },
  "kernelspec": {
   "display_name": "base",
   "language": "python",
   "name": "python3"
  },
  "language_info": {
   "codemirror_mode": {
    "name": "ipython",
    "version": 3
   },
   "file_extension": ".py",
   "mimetype": "text/x-python",
   "name": "python",
   "nbconvert_exporter": "python",
   "pygments_lexer": "ipython3",
   "version": "3.12.7"
  }
 },
 "nbformat": 4,
 "nbformat_minor": 5
}
