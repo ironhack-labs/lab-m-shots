{
 "cells": [
  {
   "cell_type": "markdown",
   "id": "24b19fff-8f42-4e9f-a73e-00cff106805a",
   "metadata": {},
   "source": [
    "# M-Shots Learning"
   ]
  },
  {
   "cell_type": "markdown",
   "id": "34723a72-1601-4685-a0ba-bff544425d48",
   "metadata": {
    "id": "34723a72-1601-4685-a0ba-bff544425d48"
   },
   "source": [
    "In this notebook, we'll explore small prompt engineering techniques and recommendations that will help us elicit responses from the models that are better suited to our needs."
   ]
  },
  {
   "cell_type": "code",
   "execution_count": 1,
   "id": "fba193cc-d8a0-4ad2-8177-380204426859",
   "metadata": {
    "id": "fba193cc-d8a0-4ad2-8177-380204426859"
   },
   "outputs": [],
   "source": [
    "from openai import OpenAI\n",
    "import os\n",
    "\n",
    "from dotenv import load_dotenv, find_dotenv\n",
    "_ = load_dotenv(find_dotenv()) # read local .env file\n",
    "\n",
    "OPENAI_API_KEY  = os.getenv('OPENAI_API_KEY')"
   ]
  },
  {
   "cell_type": "markdown",
   "id": "502cfc93-21e0-498f-9650-37bc6ddd514d",
   "metadata": {
    "id": "502cfc93-21e0-498f-9650-37bc6ddd514d"
   },
   "source": [
    "# Formatting the answer with Few Shot Samples.\n",
    "\n",
    "To obtain the model's response in a specific format, we have various options, but one of the most convenient is to use Few-Shot Samples. This involves presenting the model with pairs of user queries and example responses.\n",
    "\n",
    "Large models like GPT-3.5 respond well to the examples provided, adapting their response to the specified format.\n",
    "\n",
    "Depending on the number of examples given, this technique can be referred to as:\n",
    "* Zero-Shot.\n",
    "* One-Shot.\n",
    "* Few-Shots.\n",
    "\n",
    "With One Shot should be enough, and it is recommended to use a maximum of six shots. It's important to remember that this information is passed in each query and occupies space in the input prompt.\n",
    "\n"
   ]
  },
  {
   "cell_type": "code",
   "execution_count": 3,
   "id": "a8344712-06d7-4c24-83d8-f36d62926e5e",
   "metadata": {
    "id": "a8344712-06d7-4c24-83d8-f36d62926e5e"
   },
   "outputs": [],
   "source": [
    "# Function to call the model.\n",
    "def return_OAIResponse(user_message, context):\n",
    "    client = OpenAI(\n",
    "    # This is the default and can be omitted\n",
    "    api_key=OPENAI_API_KEY,\n",
    ")\n",
    "\n",
    "    newcontext = context.copy()\n",
    "    newcontext.append({'role':'user', 'content':\"question: \" + user_message})\n",
    "\n",
    "    response = client.chat.completions.create(\n",
    "            model=\"gpt-4o\",\n",
    "            messages=newcontext,\n",
    "            temperature=1,\n",
    "        )\n",
    "\n",
    "    return (response.choices[0].message.content)"
   ]
  },
  {
   "cell_type": "markdown",
   "id": "f611d73d-9330-466d-b705-543667e1b561",
   "metadata": {
    "id": "f611d73d-9330-466d-b705-543667e1b561"
   },
   "source": [
    "In this zero-shots prompt we obtain a correct response, but without formatting, as the model incorporates the information he wants."
   ]
  },
  {
   "cell_type": "code",
   "execution_count": 4,
   "id": "647790be-fdb8-4692-a82e-7e3a0220f72a",
   "metadata": {
    "colab": {
     "base_uri": "https://localhost:8080/"
    },
    "id": "647790be-fdb8-4692-a82e-7e3a0220f72a",
    "outputId": "4c4a9f4f-67c9-4a11-837f-1a1fd6b516ff"
   },
   "outputs": [
    {
     "name": "stdout",
     "output_type": "stream",
     "text": [
      "Sebastian Vettel won the 2010 Formula One World Championship. He drove for the Red Bull Racing team and secured his first world title that year, becoming the youngest World Champion in F1 history at that time.\n"
     ]
    }
   ],
   "source": [
    "#zero-shot\n",
    "context_user = [\n",
    "    {'role':'system', 'content':'You are an expert in F1.'}\n",
    "]\n",
    "print(return_OAIResponse(\"Who won the F1 2010?\", context_user))"
   ]
  },
  {
   "cell_type": "markdown",
   "id": "e87a9a0a-c1b9-4759-b52f-f6547d29b4c8",
   "metadata": {
    "id": "e87a9a0a-c1b9-4759-b52f-f6547d29b4c8"
   },
   "source": [
    "For a model as large and good as GPT 3.5, a single shot is enough to learn the output format we expect.\n"
   ]
  },
  {
   "cell_type": "code",
   "execution_count": 17,
   "id": "33ac7693-6cf3-44f7-b2ff-55d8a36fe775",
   "metadata": {
    "colab": {
     "base_uri": "https://localhost:8080/"
    },
    "id": "33ac7693-6cf3-44f7-b2ff-55d8a36fe775",
    "outputId": "5278df23-8797-4dc2-9340-ac29c1318a9c"
   },
   "outputs": [
    {
     "name": "stdout",
     "output_type": "stream",
     "text": [
      "Driver: Sebastian Vettel.  \n",
      "Team: Red Bull Racing.\n"
     ]
    }
   ],
   "source": [
    "#one-shot\n",
    "context_user = [\n",
    "    {'role':'system', 'content':\n",
    "     \"\"\"You are an expert in F1.\n",
    "\n",
    "     Who won the 2000 f1 championship?\n",
    "     Driver: Michael Schumacher.\n",
    "     Team: Ferrari.\"\"\"}\n",
    "]\n",
    "print(return_OAIResponse(\"Who won the F1 2011?\", context_user))"
   ]
  },
  {
   "cell_type": "markdown",
   "id": "32c454a8-181b-482b-873a-81d6ffde4674",
   "metadata": {
    "id": "32c454a8-181b-482b-873a-81d6ffde4674"
   },
   "source": [
    "Smaller models, or more complicated formats, may require more than one shot. Here a sample with two shots."
   ]
  },
  {
   "cell_type": "code",
   "execution_count": 18,
   "id": "8ce600f7-f92e-4cf7-be4a-408f12eb39d6",
   "metadata": {
    "colab": {
     "base_uri": "https://localhost:8080/"
    },
    "id": "8ce600f7-f92e-4cf7-be4a-408f12eb39d6",
    "outputId": "a6f90f5d-6d68-4b3d-ccb5-5848ae4e3e62"
   },
   "outputs": [
    {
     "name": "stdout",
     "output_type": "stream",
     "text": [
      "Driver: Fernando Alonso.  \n",
      "Team: Renault.\n"
     ]
    }
   ],
   "source": [
    "#Few shots\n",
    "context_user = [\n",
    "    {'role':'system', 'content':\n",
    "     \"\"\"You are an expert in F1.\n",
    "\n",
    "     Who won the 2010 f1 championship?\n",
    "     Driver: Sebastian Vettel.\n",
    "     Team: Red Bull Renault.\n",
    "\n",
    "     Who won the 2009 f1 championship?\n",
    "     Driver: Jenson Button.\n",
    "     Team: BrawnGP.\"\"\"}\n",
    "]\n",
    "print(return_OAIResponse(\"Who won the F1 2006?\", context_user))"
   ]
  },
  {
   "cell_type": "code",
   "execution_count": 19,
   "id": "4b29898a-f715-46d4-b74b-9f95d3112d38",
   "metadata": {
    "colab": {
     "base_uri": "https://localhost:8080/"
    },
    "id": "4b29898a-f715-46d4-b74b-9f95d3112d38",
    "outputId": "75f63fe3-0efc-45ed-dd45-71dbbb08d7a6"
   },
   "outputs": [
    {
     "name": "stdout",
     "output_type": "stream",
     "text": [
      "Driver: Lewis Hamilton.  \n",
      "Team: Mercedes.\n"
     ]
    }
   ],
   "source": [
    "print(return_OAIResponse(\"Who won the F1 2019?\", context_user))"
   ]
  },
  {
   "cell_type": "markdown",
   "id": "5f1b71c4-6583-4dcb-b987-02abf6aa4a86",
   "metadata": {
    "id": "5f1b71c4-6583-4dcb-b987-02abf6aa4a86"
   },
   "source": [
    "We've been creating the prompt without using OpenAI's roles, and as we've seen, it worked correctly.\n",
    "\n",
    "However, the proper way to do this is by using these roles to construct the prompt, making the model's learning process even more effective.\n",
    "\n",
    "By not feeding it the entire prompt as if they were system commands, we enable the model to learn from a conversation, which is more realistic for it."
   ]
  },
  {
   "cell_type": "code",
   "execution_count": 20,
   "id": "20fa4a25-01a6-4f22-98db-ab7ccc9ba115",
   "metadata": {
    "colab": {
     "base_uri": "https://localhost:8080/"
    },
    "id": "20fa4a25-01a6-4f22-98db-ab7ccc9ba115",
    "outputId": "868d2040-ca3c-4a47-a1e8-1e08d581191d"
   },
   "outputs": [
    {
     "name": "stdout",
     "output_type": "stream",
     "text": [
      "Driver: Lewis Hamilton.  \n",
      "Team: Mercedes.  \n",
      "Points: 413.  \n"
     ]
    }
   ],
   "source": [
    "#Recomended solution\n",
    "context_user = [\n",
    "    {'role':'system', 'content':'You are and expert in f1.\\n\\n'},\n",
    "    {'role':'user', 'content':'Who won the 2010 f1 championship?'},\n",
    "    {'role':'assistant', 'content':\"\"\"Driver: Sebastian Vettel. \\nTeam: Red Bull. \\nPoints: 256. \"\"\"},\n",
    "    {'role':'user', 'content':'Who won the 2009 f1 championship?'},\n",
    "    {'role':'assistant', 'content':\"\"\"Driver: Jenson Button. \\nTeam: BrawnGP. \\nPoints: 95. \"\"\"},\n",
    "]\n",
    "\n",
    "print(return_OAIResponse(\"Who won the F1 2019?\", context_user))"
   ]
  },
  {
   "cell_type": "markdown",
   "id": "ac6f6b42-f351-496b-a7e8-1286426457eb",
   "metadata": {
    "id": "ac6f6b42-f351-496b-a7e8-1286426457eb"
   },
   "source": [
    "We could also address it by using a more conventional prompt, describing what we want and how we want the format.\n",
    "\n",
    "However, it's essential to understand that in this case, the model is following instructions, whereas in the case of use shots, it is learning in real-time during inference."
   ]
  },
  {
   "cell_type": "code",
   "execution_count": 21,
   "id": "36c32a32-c348-45b2-85ee-ab4500438c49",
   "metadata": {
    "colab": {
     "base_uri": "https://localhost:8080/"
    },
    "id": "36c32a32-c348-45b2-85ee-ab4500438c49",
    "outputId": "4c970dde-37ff-41a9-8d4e-37bb727f47a6"
   },
   "outputs": [
    {
     "name": "stdout",
     "output_type": "stream",
     "text": [
      "Drive: Lewis Hamilton  \n",
      "Team: Mercedes  \n",
      "Points: 413  \n"
     ]
    }
   ],
   "source": [
    "context_user = [\n",
    "    {'role':'system', 'content':\"\"\"You are and expert in f1.\n",
    "    You are going to answer the question of the user giving the name of the rider,\n",
    "    the name of the team and the points of the champion, following the format:\n",
    "    Drive:\n",
    "    Team:\n",
    "    Points: \"\"\"\n",
    "    }\n",
    "]\n",
    "\n",
    "print(return_OAIResponse(\"Who won the F1 2019?\", context_user))"
   ]
  },
  {
   "cell_type": "code",
   "execution_count": 22,
   "id": "KNDL1GzVngyL",
   "metadata": {
    "id": "KNDL1GzVngyL"
   },
   "outputs": [
    {
     "name": "stdout",
     "output_type": "stream",
     "text": [
      "Driver: Fernando Alonso.  \n",
      "Team: Renault F1 Team.\n"
     ]
    }
   ],
   "source": [
    "context_user = [\n",
    "    {'role':'system', 'content':\n",
    "     \"\"\"You are classifying .\n",
    "\n",
    "     Who won the 2010 f1 championship?\n",
    "     Driver: Sebastian Vettel.\n",
    "     Team: Red Bull Renault.\n",
    "\n",
    "     Who won the 2009 f1 championship?\n",
    "     Driver: Jenson Button.\n",
    "     Team: BrawnGP.\"\"\"}\n",
    "]\n",
    "print(return_OAIResponse(\"Who won the F1 2006?\", context_user))"
   ]
  },
  {
   "cell_type": "markdown",
   "id": "qZPNTLMPnkQ4",
   "metadata": {
    "id": "qZPNTLMPnkQ4"
   },
   "source": [
    "Few Shots for classification.\n"
   ]
  },
  {
   "cell_type": "code",
   "execution_count": 23,
   "id": "ejcstgTxnnX5",
   "metadata": {
    "colab": {
     "base_uri": "https://localhost:8080/"
    },
    "id": "ejcstgTxnnX5",
    "outputId": "4b91cc73-18f6-4944-a46b-806b02b7becb"
   },
   "outputs": [
    {
     "name": "stdout",
     "output_type": "stream",
     "text": [
      "Sentiment: Negative\n"
     ]
    }
   ],
   "source": [
    "context_user = [\n",
    "    {'role':'system', 'content':\n",
    "     \"\"\"You are an expert in reviewing product opinions and classifying them as positive or negative.\n",
    "\n",
    "     It fulfilled its function perfectly, I think the price is fair, I would buy it again.\n",
    "     Sentiment: Positive\n",
    "\n",
    "     It didn't work bad, but I wouldn't buy it again, maybe it's a bit expensive for what it does.\n",
    "     Sentiment: Negative.\n",
    "\n",
    "     I wouldn't know what to say, my son uses it, but he doesn't love it.\n",
    "     Sentiment: Neutral\n",
    "     \"\"\"}\n",
    "]\n",
    "print(return_OAIResponse(\"I'm not going to return it, but I don't plan to buy it again.\", context_user))"
   ]
  },
  {
   "cell_type": "markdown",
   "id": "ffe1d50b-d262-4e74-8f2d-3559f3fcfb15",
   "metadata": {
    "id": "ZHr_75sDqDJp"
   },
   "source": [
    "# Exercise\n",
    " - Complete the prompts similar to what we did in class. \n",
    "     - Try at least 3 versions\n",
    "     - Be creative\n",
    " - Write a one page report summarizing your findings.\n",
    "     - Were there variations that didn't work well? i.e., where GPT either hallucinated or wrong\n",
    " - What did you learn?"
   ]
  },
  {
   "cell_type": "markdown",
   "id": "768f7656",
   "metadata": {},
   "source": [
    "## Version 1 - Finals MVP in NBA championship"
   ]
  },
  {
   "cell_type": "code",
   "execution_count": 45,
   "id": "9adda59c-ad09-4e9d-88cd-54f42384a5f3",
   "metadata": {},
   "outputs": [
    {
     "name": "stdout",
     "output_type": "stream",
     "text": [
      "The MVP of the NBA Finals in 2016 was LeBron James. He won the award after leading the Cleveland Cavaliers to a historic comeback victory against the Golden State Warriors, overcoming a 3-1 series deficit to win the championship.\n"
     ]
    }
   ],
   "source": [
    "#zero-shot\n",
    "context_user = [\n",
    "    {'role':'system', 'content':'You are an expert in NBA.'}\n",
    "]\n",
    "print(return_OAIResponse(\"Who was the MVP of the finals in the NBA championship in 2016?\", context_user))"
   ]
  },
  {
   "cell_type": "code",
   "execution_count": 49,
   "id": "d1bf0df0",
   "metadata": {},
   "outputs": [
    {
     "name": "stdout",
     "output_type": "stream",
     "text": [
      "The MVP of the NBA Finals in 2016 was LeBron James. He led the Cleveland Cavaliers to victory over the Golden State Warriors.\n"
     ]
    }
   ],
   "source": [
    "#one-shot\n",
    "context_user = [\n",
    "    {'role':'system', 'content':\n",
    "     \"\"\"You are an expert in NBA.\n",
    "\n",
    "     Who was the MVP of the finals in the NBA championship in 2015?\n",
    "     Finals MVP: Andre Iguodala.\n",
    "     Team: Golden State Warriors.\"\"\"}\n",
    "]\n",
    "print(return_OAIResponse(\"Who was the MVP of the finals in the NBA championship in 2016?\", context_user))"
   ]
  },
  {
   "cell_type": "code",
   "execution_count": 48,
   "id": "147cf6c2",
   "metadata": {},
   "outputs": [
    {
     "name": "stdout",
     "output_type": "stream",
     "text": [
      "Finals MVP: Kevin Durant.  \n",
      "Team: Golden State Warriors.\n"
     ]
    }
   ],
   "source": [
    "#Few shots\n",
    "context_user = [\n",
    "    {'role':'system', 'content':\n",
    "     \"\"\"You are an expert in NBA.\n",
    "\n",
    "     Who was the MVP of the finals in the NBA championship in 2015?\n",
    "     Finals MVP: Andre Iguodala.\n",
    "     Team: Golden State Warriors.\n",
    "\n",
    "     Who was the MVP of the finals in the NBA championship in 2016?\n",
    "     Finals MVP: LeBron James.\n",
    "     Team: Cleveland Cavaliers.\"\"\"}\n",
    "]\n",
    "print(return_OAIResponse(\"Who was the MVP of the finals in the NBA championship in 2017?\", context_user))"
   ]
  },
  {
   "cell_type": "markdown",
   "id": "09ed9402",
   "metadata": {},
   "source": [
    "## Version 2 - Most populated capital"
   ]
  },
  {
   "cell_type": "code",
   "execution_count": 50,
   "id": "d0c78d67",
   "metadata": {},
   "outputs": [
    {
     "name": "stdout",
     "output_type": "stream",
     "text": [
      "As of the latest data, the most populated capital in Europe is Moscow, Russia. Moscow has a population exceeding 12 million people, making it not only the largest capital in Europe in terms of population but also one of the largest cities on the continent. Keep in mind that population figures can change over time due to various factors, including urbanization, migration, and administrative changes.\n"
     ]
    }
   ],
   "source": [
    "#zero-shot\n",
    "context_user = [\n",
    "    {'role':'system', 'content':'You are an expert in demography accross the world.'}\n",
    "]\n",
    "print(return_OAIResponse(\"What is the most populated capital in Europe?\", context_user))"
   ]
  },
  {
   "cell_type": "code",
   "execution_count": 59,
   "id": "7f102e16",
   "metadata": {},
   "outputs": [
    {
     "name": "stdout",
     "output_type": "stream",
     "text": [
      "Capital: Cairo.  \n",
      "Country: Egypt.  \n",
      "Population: 21,750,020.\n"
     ]
    }
   ],
   "source": [
    "#one-shot\n",
    "context_user = [\n",
    "    {'role':'system', 'content':\n",
    "     \"\"\"You are an expert in demography accross the world.\n",
    "\n",
    "     Pattern to follow:\n",
    "     What is the most populated capital in Europe?\"\n",
    "     Capital : Moscow.\n",
    "     Country: Russia.\n",
    "     Population: 13,258,262.\"\"\"}\n",
    "]\n",
    "print(return_OAIResponse(\"What is the most populated capital in Africa?\", context_user))"
   ]
  },
  {
   "cell_type": "code",
   "execution_count": 60,
   "id": "767e0553",
   "metadata": {},
   "outputs": [
    {
     "name": "stdout",
     "output_type": "stream",
     "text": [
      "Capital: Beijing.  \n",
      "Country: China.  \n",
      "Population: over 21 million.\n"
     ]
    }
   ],
   "source": [
    "#Few shots\n",
    "context_user = [\n",
    "    {'role':'system', 'content':\n",
    "     \"\"\"You are an expert in demography accross the world.\n",
    "\n",
    "     Pattern to follow:\n",
    "     What is the most populated capital in Europe?\n",
    "     Capital : Moscow.\n",
    "     Country: Russia.\n",
    "     Population: 13,258,262\n",
    "\n",
    "     What is the most populated capital in Africa?\n",
    "     Capital : Kinshasa.\n",
    "     Country: Democratic Republic of the Congo .\n",
    "     Population: over 15 million.\"\"\"}\n",
    "]\n",
    "print(return_OAIResponse(\"What is the most populated capital in Asia?\", context_user))"
   ]
  },
  {
   "cell_type": "markdown",
   "id": "d98ed87d",
   "metadata": {},
   "source": [
    "## Version 3 - Strongest character in the MCU"
   ]
  },
  {
   "cell_type": "code",
   "execution_count": null,
   "id": "c1766bd1",
   "metadata": {},
   "outputs": [
    {
     "name": "stdout",
     "output_type": "stream",
     "text": [
      "Determining the \"strongest\" character in the Marvel Cinematic Universe (MCU) can be subjective and depends on the criteria used, such as physical strength, magical power, durability, or overall influence.\n",
      "\n",
      "1. **Physical Strength**: Characters like the Hulk and Thor are often at the top when considering sheer physical power. Both have showcased immense strength in battles.\n",
      "\n",
      "2. **Magical Power**: Characters like Doctor Strange and Scarlet Witch are incredibly powerful in terms of magical abilities. Scarlet Witch, in particular, has shown the capability to alter reality and take on entire groups of heroes with her abilities.\n",
      "\n",
      "3. **Overall Power**: In terms of combined strength, durability, intelligence, and other powers, Captain Marvel is often considered one of the most powerful characters. She's shown to possess incredible energy, strength, and the ability to withstand significant damage.\n",
      "\n",
      "4. **Celestial Beings**: Characters like Ego the Living Planet and the Celestials have powers that surpass typical superheroes, given their god-like nature and cosmic abilities.\n",
      "\n",
      "In essence, while physical strength or combat prowess is one measure, the most powerful character often depends on the context of their abilities and the situation they're placed in. As of now, Scarlet Witch and Captain Marvel are frequently highlighted as some of the most powerful characters in the MCU.\n"
     ]
    }
   ],
   "source": [
    "#zero-shot\n",
    "context_user = [\n",
    "    {'role':'system', 'content':'You are an expert in the MCU.'}\n",
    "]\n",
    "print(return_OAIResponse(\"What is the strongest characher in the MCU?\", context_user))"
   ]
  },
  {
   "cell_type": "code",
   "execution_count": 64,
   "id": "843cdc0f",
   "metadata": {},
   "outputs": [
    {
     "name": "stdout",
     "output_type": "stream",
     "text": [
      "Name: Tony Stark/Iron Man.  \n",
      "Main appearances: Tony Stark, portrayed by Robert Downey Jr., has appeared in multiple MCU films including all the \"Iron Man\" and \"Avengers\" films, as well as \"Captain America: Civil War,\" \"Spider-Man: Homecoming,\" and more.  \n",
      "Origin: Earth.\n"
     ]
    }
   ],
   "source": [
    "#one-shot\n",
    "context_user = [\n",
    "    {'role':'system', 'content':\n",
    "     \"\"\"You are an expert in the MCU.\n",
    "\n",
    "     Pattern to follow:\n",
    "     What is the strongest characher in the MCU?\"\n",
    "     Name : Hulk.\n",
    "     Main power: Physical Strength.\n",
    "     Origin: Earth.\"\"\"}\n",
    "]\n",
    "print(return_OAIResponse(\"What is the most seen characher in the MCU?\", context_user))"
   ]
  },
  {
   "cell_type": "code",
   "execution_count": null,
   "id": "69c93cb8",
   "metadata": {},
   "outputs": [
    {
     "name": "stdout",
     "output_type": "stream",
     "text": [
      "Name: Peter Parker/Spider-Man.\n",
      "Main power: Superhuman strength, agility, and the ability to cling to most surfaces; spider-sense; web-shooting.\n",
      "Main appearances:\n",
      "   7 movies:\n",
      "\n",
      "   - Captain America: Civil War (2016)\n",
      "\n",
      "   - Spider-Man: Homecoming (2017)\n",
      "\n",
      "   - Avengers: Infinity War (2018)\n",
      "\n",
      "   - Avengers: Endgame (2019)\n",
      "\n",
      "   - Spider-Man: Far From Home (2019)\n",
      "\n",
      "   - Spider-Man: No Way Home (2021)\n",
      "\n",
      "   - Spider-Man: Freshman Year (upcoming animated series)\n",
      "\n",
      "Origin: Earth.\n"
     ]
    }
   ],
   "source": [
    "#Few shots\n",
    "context_user = [\n",
    "    {'role':'system', 'content':\n",
    "     \"\"\"You are an expert in the MCU.\n",
    "\n",
    "     Pattern to follow:\n",
    "     What is the strongest characher in the MCU?\"\n",
    "     Name: Hulk.\n",
    "     Main power: Physical Strength\n",
    "     Main appearance:\n",
    "        9 movies :\\n\n",
    "        All the \"Avengers\" films :\\n\n",
    "        - The Avengers (2012)\\n\n",
    "        - Avengers: Age of Ultron (2015)\\n\n",
    "        - Avengers: Infinity War (2018)\\n\n",
    "        - Avengers: Endgame (2019)\\n\n",
    "        The Incredible Hulk (2008)\\n\n",
    "        Thor: Ragnarok (2017)\\n\n",
    "     Origin: Earth.\n",
    "\n",
    "     What is the most seen characher in the MCU?\n",
    "     Name: Tony Stark/Iron Man.\n",
    "     Main power: Powered armored suit\n",
    "     Main appearances:\n",
    "        9 movies :\\n\n",
    "        All the \"Iron Man\" films :\\n\n",
    "        - Iron Man (2008)\\n\n",
    "        - Iron Man 2 (2010)\\n\n",
    "        - Iron Man 3 (2013)\\n\n",
    "        All the \"Avengers\" films :\\n\n",
    "        - The Avengers (2012)\\n\n",
    "        - Avengers: Age of Ultron (2015)\\n\n",
    "        - Avengers: Infinity War (2018)\\n\n",
    "        - Avengers: Endgame (2019)\\n\n",
    "        Captain America: Civil War (2016)\\n\n",
    "        Spider-Man: Homecoming (2017)\\n\n",
    "     Origin: Earth.\"\"\"}\n",
    "]\n",
    "print(return_OAIResponse(\"What is the youngest characher in the MCU?\", context_user))"
   ]
  },
  {
   "cell_type": "code",
   "execution_count": 67,
   "id": "a8f73e01",
   "metadata": {},
   "outputs": [
    {
     "name": "stdout",
     "output_type": "stream",
     "text": [
      "Name: Groot.\n",
      "Main power: Regeneration and control over plant life.\n",
      "Main appearances:\n",
      "   5 movies:\n",
      "\n",
      "   Guardians of the Galaxy (2014)\n",
      "\n",
      "   Guardians of the Galaxy Vol. 2 (2017)\n",
      "\n",
      "   Avengers: Infinity War (2018)\n",
      "\n",
      "   Avengers: Endgame (2019)\n",
      "\n",
      "   Thor: Love and Thunder (2022) \n",
      "\n",
      "Origin: Planet X.\n"
     ]
    }
   ],
   "source": [
    "#Few shots\n",
    "context_user = [\n",
    "    {'role':'system', 'content':\n",
    "     \"\"\"You are an expert in the MCU.\n",
    "\n",
    "     Pattern to follow:\n",
    "     What is the strongest characher in the MCU?\"\n",
    "     Name: Hulk.\n",
    "     Main power: Physical Strength\n",
    "     Main appearance:\n",
    "        9 movies :\\n\n",
    "        All the \"Avengers\" films :\\n\n",
    "        - The Avengers (2012)\\n\n",
    "        - Avengers: Age of Ultron (2015)\\n\n",
    "        - Avengers: Infinity War (2018)\\n\n",
    "        - Avengers: Endgame (2019)\\n\n",
    "        The Incredible Hulk (2008)\\n\n",
    "        Thor: Ragnarok (2017)\\n\n",
    "     Origin: Earth.\n",
    "\n",
    "     What is the most seen characher in the MCU?\n",
    "     Name: Tony Stark/Iron Man.\n",
    "     Main power: Powered armored suit\n",
    "     Main appearances:\n",
    "        9 movies :\\n\n",
    "        All the \"Iron Man\" films :\\n\n",
    "        - Iron Man (2008)\\n\n",
    "        - Iron Man 2 (2010)\\n\n",
    "        - Iron Man 3 (2013)\\n\n",
    "        All the \"Avengers\" films :\\n\n",
    "        - The Avengers (2012)\\n\n",
    "        - Avengers: Age of Ultron (2015)\\n\n",
    "        - Avengers: Infinity War (2018)\\n\n",
    "        - Avengers: Endgame (2019)\\n\n",
    "        Captain America: Civil War (2016)\\n\n",
    "        Spider-Man: Homecoming (2017)\\n\n",
    "     Origin: Earth.\"\"\"}\n",
    "]\n",
    "print(return_OAIResponse(\"What is the youngest characher in the MCU but not from earth?\", context_user))"
   ]
  },
  {
   "cell_type": "markdown",
   "id": "443ee416",
   "metadata": {},
   "source": [
    "## My observations:\n",
    "I used GPT-4o exclusively and experimented with prompt variations.\n",
    "I noticed that, at times, the model requires explicit encouragement to follow the provided pattern, even when it seems clear."
   ]
  },
  {
   "cell_type": "markdown",
   "id": "35d32adb",
   "metadata": {},
   "source": []
  }
 ],
 "metadata": {
  "colab": {
   "include_colab_link": true,
   "provenance": []
  },
  "kernelspec": {
   "display_name": "base",
   "language": "python",
   "name": "python3"
  },
  "language_info": {
   "codemirror_mode": {
    "name": "ipython",
    "version": 3
   },
   "file_extension": ".py",
   "mimetype": "text/x-python",
   "name": "python",
   "nbconvert_exporter": "python",
   "pygments_lexer": "ipython3",
   "version": "3.12.3"
  }
 },
 "nbformat": 4,
 "nbformat_minor": 5
}
